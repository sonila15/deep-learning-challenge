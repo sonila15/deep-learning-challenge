{
  "cells": [
    {
<<<<<<< HEAD
      "attachments": {},
=======
      "cell_type": "markdown",
      "metadata": {
        "id": "view-in-github",
        "colab_type": "text"
      },
      "source": [
        "<a href=\"https://colab.research.google.com/github/sonila15/deep-learning-challenge/blob/main/AlphabetSoupCharity_Optimization.ipynb\" target=\"_parent\"><img src=\"https://colab.research.google.com/assets/colab-badge.svg\" alt=\"Open In Colab\"/></a>"
      ]
    },
    {
>>>>>>> 7ac5f3b77ef58cb02fcbe61c7313d20ca1dad2d1
      "cell_type": "markdown",
      "metadata": {
        "id": "6mtkgMxB8Sxn"
      },
      "source": [
        "## Preprocessing"
      ]
    },
    {
<<<<<<< HEAD
      "attachments": {},
      "cell_type": "markdown",
      "metadata": {
        "id": "dCWXVG1jU0vs"
      },
      "source": [
        "# New Section"
      ]
    },
    {
      "cell_type": "code",
      "execution_count": 3,
      "metadata": {
        "colab": {
          "base_uri": "https://localhost:8080/",
          "height": 495
        },
        "id": "VZbqQ_Ra8Sxp",
        "outputId": "617f610c-9f83-4bdf-ab73-ecb92fdc3b4f"
      },
      "outputs": [
        {
          "data": {
            "text/html": [
              "\n",
              "  <div id=\"df-42c830d7-bb91-45bb-99d2-2d567890230e\">\n",
=======
      "cell_type": "markdown",
      "source": [
        "# New Section"
      ],
      "metadata": {
        "id": "dCWXVG1jU0vs"
      }
    },
    {
      "cell_type": "code",
      "execution_count": 2,
      "metadata": {
        "id": "VZbqQ_Ra8Sxp",
        "outputId": "c5625811-d9ae-4ffa-e1b8-d4ff416c18e4",
        "colab": {
          "base_uri": "https://localhost:8080/",
          "height": 302
        }
      },
      "outputs": [
        {
          "output_type": "execute_result",
          "data": {
            "text/plain": [
              "        EIN                                      NAME APPLICATION_TYPE  \\\n",
              "0  10520599              BLUE KNIGHTS MOTORCYCLE CLUB              T10   \n",
              "1  10531628    AMERICAN CHESAPEAKE CLUB CHARITABLE TR               T3   \n",
              "2  10547893        ST CLOUD PROFESSIONAL FIREFIGHTERS               T5   \n",
              "3  10553066            SOUTHSIDE ATHLETIC ASSOCIATION               T3   \n",
              "4  10556103  GENETIC RESEARCH INSTITUTE OF THE DESERT               T3   \n",
              "\n",
              "        AFFILIATION CLASSIFICATION      USE_CASE  ORGANIZATION  STATUS  \\\n",
              "0       Independent          C1000    ProductDev   Association       1   \n",
              "1       Independent          C2000  Preservation  Co-operative       1   \n",
              "2  CompanySponsored          C3000    ProductDev   Association       1   \n",
              "3  CompanySponsored          C2000  Preservation         Trust       1   \n",
              "4       Independent          C1000     Heathcare         Trust       1   \n",
              "\n",
              "      INCOME_AMT SPECIAL_CONSIDERATIONS  ASK_AMT  IS_SUCCESSFUL  \n",
              "0              0                      N     5000              1  \n",
              "1         1-9999                      N   108590              1  \n",
              "2              0                      N     5000              0  \n",
              "3    10000-24999                      N     6692              1  \n",
              "4  100000-499999                      N   142590              1  "
            ],
            "text/html": [
              "\n",
              "  <div id=\"df-f2c815cd-daa9-4226-ad72-3dfee791f6ca\">\n",
>>>>>>> 7ac5f3b77ef58cb02fcbe61c7313d20ca1dad2d1
              "    <div class=\"colab-df-container\">\n",
              "      <div>\n",
              "<style scoped>\n",
              "    .dataframe tbody tr th:only-of-type {\n",
              "        vertical-align: middle;\n",
              "    }\n",
              "\n",
              "    .dataframe tbody tr th {\n",
              "        vertical-align: top;\n",
              "    }\n",
              "\n",
              "    .dataframe thead th {\n",
              "        text-align: right;\n",
              "    }\n",
              "</style>\n",
              "<table border=\"1\" class=\"dataframe\">\n",
              "  <thead>\n",
              "    <tr style=\"text-align: right;\">\n",
              "      <th></th>\n",
              "      <th>EIN</th>\n",
              "      <th>NAME</th>\n",
              "      <th>APPLICATION_TYPE</th>\n",
              "      <th>AFFILIATION</th>\n",
              "      <th>CLASSIFICATION</th>\n",
              "      <th>USE_CASE</th>\n",
              "      <th>ORGANIZATION</th>\n",
              "      <th>STATUS</th>\n",
              "      <th>INCOME_AMT</th>\n",
              "      <th>SPECIAL_CONSIDERATIONS</th>\n",
              "      <th>ASK_AMT</th>\n",
              "      <th>IS_SUCCESSFUL</th>\n",
              "    </tr>\n",
              "  </thead>\n",
              "  <tbody>\n",
              "    <tr>\n",
              "      <th>0</th>\n",
              "      <td>10520599</td>\n",
              "      <td>BLUE KNIGHTS MOTORCYCLE CLUB</td>\n",
              "      <td>T10</td>\n",
              "      <td>Independent</td>\n",
              "      <td>C1000</td>\n",
              "      <td>ProductDev</td>\n",
              "      <td>Association</td>\n",
              "      <td>1</td>\n",
              "      <td>0</td>\n",
              "      <td>N</td>\n",
              "      <td>5000</td>\n",
              "      <td>1</td>\n",
              "    </tr>\n",
              "    <tr>\n",
              "      <th>1</th>\n",
              "      <td>10531628</td>\n",
              "      <td>AMERICAN CHESAPEAKE CLUB CHARITABLE TR</td>\n",
              "      <td>T3</td>\n",
              "      <td>Independent</td>\n",
              "      <td>C2000</td>\n",
              "      <td>Preservation</td>\n",
              "      <td>Co-operative</td>\n",
              "      <td>1</td>\n",
              "      <td>1-9999</td>\n",
              "      <td>N</td>\n",
              "      <td>108590</td>\n",
              "      <td>1</td>\n",
              "    </tr>\n",
              "    <tr>\n",
              "      <th>2</th>\n",
              "      <td>10547893</td>\n",
              "      <td>ST CLOUD PROFESSIONAL FIREFIGHTERS</td>\n",
              "      <td>T5</td>\n",
              "      <td>CompanySponsored</td>\n",
              "      <td>C3000</td>\n",
              "      <td>ProductDev</td>\n",
              "      <td>Association</td>\n",
              "      <td>1</td>\n",
              "      <td>0</td>\n",
              "      <td>N</td>\n",
              "      <td>5000</td>\n",
              "      <td>0</td>\n",
              "    </tr>\n",
              "    <tr>\n",
              "      <th>3</th>\n",
              "      <td>10553066</td>\n",
              "      <td>SOUTHSIDE ATHLETIC ASSOCIATION</td>\n",
              "      <td>T3</td>\n",
              "      <td>CompanySponsored</td>\n",
              "      <td>C2000</td>\n",
              "      <td>Preservation</td>\n",
              "      <td>Trust</td>\n",
              "      <td>1</td>\n",
              "      <td>10000-24999</td>\n",
              "      <td>N</td>\n",
              "      <td>6692</td>\n",
              "      <td>1</td>\n",
              "    </tr>\n",
              "    <tr>\n",
              "      <th>4</th>\n",
              "      <td>10556103</td>\n",
              "      <td>GENETIC RESEARCH INSTITUTE OF THE DESERT</td>\n",
              "      <td>T3</td>\n",
              "      <td>Independent</td>\n",
              "      <td>C1000</td>\n",
              "      <td>Heathcare</td>\n",
              "      <td>Trust</td>\n",
              "      <td>1</td>\n",
              "      <td>100000-499999</td>\n",
              "      <td>N</td>\n",
              "      <td>142590</td>\n",
              "      <td>1</td>\n",
              "    </tr>\n",
              "  </tbody>\n",
              "</table>\n",
              "</div>\n",
<<<<<<< HEAD
              "      <button class=\"colab-df-convert\" onclick=\"convertToInteractive('df-42c830d7-bb91-45bb-99d2-2d567890230e')\"\n",
=======
              "      <button class=\"colab-df-convert\" onclick=\"convertToInteractive('df-f2c815cd-daa9-4226-ad72-3dfee791f6ca')\"\n",
>>>>>>> 7ac5f3b77ef58cb02fcbe61c7313d20ca1dad2d1
              "              title=\"Convert this dataframe to an interactive table.\"\n",
              "              style=\"display:none;\">\n",
              "        \n",
              "  <svg xmlns=\"http://www.w3.org/2000/svg\" height=\"24px\"viewBox=\"0 0 24 24\"\n",
              "       width=\"24px\">\n",
              "    <path d=\"M0 0h24v24H0V0z\" fill=\"none\"/>\n",
              "    <path d=\"M18.56 5.44l.94 2.06.94-2.06 2.06-.94-2.06-.94-.94-2.06-.94 2.06-2.06.94zm-11 1L8.5 8.5l.94-2.06 2.06-.94-2.06-.94L8.5 2.5l-.94 2.06-2.06.94zm10 10l.94 2.06.94-2.06 2.06-.94-2.06-.94-.94-2.06-.94 2.06-2.06.94z\"/><path d=\"M17.41 7.96l-1.37-1.37c-.4-.4-.92-.59-1.43-.59-.52 0-1.04.2-1.43.59L10.3 9.45l-7.72 7.72c-.78.78-.78 2.05 0 2.83L4 21.41c.39.39.9.59 1.41.59.51 0 1.02-.2 1.41-.59l7.78-7.78 2.81-2.81c.8-.78.8-2.07 0-2.86zM5.41 20L4 18.59l7.72-7.72 1.47 1.35L5.41 20z\"/>\n",
              "  </svg>\n",
              "      </button>\n",
              "      \n",
              "  <style>\n",
              "    .colab-df-container {\n",
              "      display:flex;\n",
              "      flex-wrap:wrap;\n",
              "      gap: 12px;\n",
              "    }\n",
              "\n",
              "    .colab-df-convert {\n",
              "      background-color: #E8F0FE;\n",
              "      border: none;\n",
              "      border-radius: 50%;\n",
              "      cursor: pointer;\n",
              "      display: none;\n",
              "      fill: #1967D2;\n",
              "      height: 32px;\n",
              "      padding: 0 0 0 0;\n",
              "      width: 32px;\n",
              "    }\n",
              "\n",
              "    .colab-df-convert:hover {\n",
              "      background-color: #E2EBFA;\n",
              "      box-shadow: 0px 1px 2px rgba(60, 64, 67, 0.3), 0px 1px 3px 1px rgba(60, 64, 67, 0.15);\n",
              "      fill: #174EA6;\n",
              "    }\n",
              "\n",
              "    [theme=dark] .colab-df-convert {\n",
              "      background-color: #3B4455;\n",
              "      fill: #D2E3FC;\n",
              "    }\n",
              "\n",
              "    [theme=dark] .colab-df-convert:hover {\n",
              "      background-color: #434B5C;\n",
              "      box-shadow: 0px 1px 3px 1px rgba(0, 0, 0, 0.15);\n",
              "      filter: drop-shadow(0px 1px 2px rgba(0, 0, 0, 0.3));\n",
              "      fill: #FFFFFF;\n",
              "    }\n",
              "  </style>\n",
              "\n",
              "      <script>\n",
              "        const buttonEl =\n",
<<<<<<< HEAD
              "          document.querySelector('#df-42c830d7-bb91-45bb-99d2-2d567890230e button.colab-df-convert');\n",
=======
              "          document.querySelector('#df-f2c815cd-daa9-4226-ad72-3dfee791f6ca button.colab-df-convert');\n",
>>>>>>> 7ac5f3b77ef58cb02fcbe61c7313d20ca1dad2d1
              "        buttonEl.style.display =\n",
              "          google.colab.kernel.accessAllowed ? 'block' : 'none';\n",
              "\n",
              "        async function convertToInteractive(key) {\n",
<<<<<<< HEAD
              "          const element = document.querySelector('#df-42c830d7-bb91-45bb-99d2-2d567890230e');\n",
=======
              "          const element = document.querySelector('#df-f2c815cd-daa9-4226-ad72-3dfee791f6ca');\n",
>>>>>>> 7ac5f3b77ef58cb02fcbe61c7313d20ca1dad2d1
              "          const dataTable =\n",
              "            await google.colab.kernel.invokeFunction('convertToInteractive',\n",
              "                                                     [key], {});\n",
              "          if (!dataTable) return;\n",
              "\n",
              "          const docLinkHtml = 'Like what you see? Visit the ' +\n",
              "            '<a target=\"_blank\" href=https://colab.research.google.com/notebooks/data_table.ipynb>data table notebook</a>'\n",
              "            + ' to learn more about interactive tables.';\n",
              "          element.innerHTML = '';\n",
              "          dataTable['output_type'] = 'display_data';\n",
              "          await google.colab.output.renderOutput(dataTable, element);\n",
              "          const docLink = document.createElement('div');\n",
              "          docLink.innerHTML = docLinkHtml;\n",
              "          element.appendChild(docLink);\n",
              "        }\n",
              "      </script>\n",
              "    </div>\n",
              "  </div>\n",
              "  "
<<<<<<< HEAD
            ],
            "text/plain": [
              "        EIN                                      NAME APPLICATION_TYPE  \\\n",
              "0  10520599              BLUE KNIGHTS MOTORCYCLE CLUB              T10   \n",
              "1  10531628    AMERICAN CHESAPEAKE CLUB CHARITABLE TR               T3   \n",
              "2  10547893        ST CLOUD PROFESSIONAL FIREFIGHTERS               T5   \n",
              "3  10553066            SOUTHSIDE ATHLETIC ASSOCIATION               T3   \n",
              "4  10556103  GENETIC RESEARCH INSTITUTE OF THE DESERT               T3   \n",
              "\n",
              "        AFFILIATION CLASSIFICATION      USE_CASE  ORGANIZATION  STATUS  \\\n",
              "0       Independent          C1000    ProductDev   Association       1   \n",
              "1       Independent          C2000  Preservation  Co-operative       1   \n",
              "2  CompanySponsored          C3000    ProductDev   Association       1   \n",
              "3  CompanySponsored          C2000  Preservation         Trust       1   \n",
              "4       Independent          C1000     Heathcare         Trust       1   \n",
              "\n",
              "      INCOME_AMT SPECIAL_CONSIDERATIONS  ASK_AMT  IS_SUCCESSFUL  \n",
              "0              0                      N     5000              1  \n",
              "1         1-9999                      N   108590              1  \n",
              "2              0                      N     5000              0  \n",
              "3    10000-24999                      N     6692              1  \n",
              "4  100000-499999                      N   142590              1  "
            ]
          },
          "execution_count": 3,
          "metadata": {},
          "output_type": "execute_result"
=======
            ]
          },
          "metadata": {},
          "execution_count": 2
>>>>>>> 7ac5f3b77ef58cb02fcbe61c7313d20ca1dad2d1
        }
      ],
      "source": [
        "# Import our dependencies\n",
        "from sklearn.model_selection import train_test_split\n",
        "from sklearn.preprocessing import StandardScaler, OneHotEncoder\n",
        "import pandas as pd\n",
        "import tensorflow as tf\n",
        "\n",
        "\n",
        "#  Import and read the charity_data.csv.\n",
        "import pandas as pd \n",
<<<<<<< HEAD
        "application_df = pd.read_csv(\"https://static.bc-edx.com/data/dl-1-2/m21/lms/starter/charity_data.csv\",nrows=10000)\n",
=======
        "application_df = pd.read_csv(\"https://static.bc-edx.com/data/dl-1-2/m21/lms/starter/charity_data.csv\")\n",
>>>>>>> 7ac5f3b77ef58cb02fcbe61c7313d20ca1dad2d1
        "application_df.head()"
      ]
    },
    {
      "cell_type": "code",
<<<<<<< HEAD
      "execution_count": 4,
      "metadata": {
        "colab": {
          "base_uri": "https://localhost:8080/",
          "height": 423
        },
        "id": "QicTgfOL8Sxs",
        "outputId": "418d9ad9-6a6a-4a51-92b4-21e5f799c348"
      },
      "outputs": [
        {
          "data": {
            "text/html": [
              "\n",
              "  <div id=\"df-cacd07f4-e106-4170-8d3a-50616e30909b\">\n",
=======
      "execution_count": 3,
      "metadata": {
        "id": "QicTgfOL8Sxs",
        "colab": {
          "base_uri": "https://localhost:8080/",
          "height": 206
        },
        "outputId": "f49febf7-ee51-4b64-d2ef-a8aad1341669"
      },
      "outputs": [
        {
          "output_type": "execute_result",
          "data": {
            "text/plain": [
              "  APPLICATION_TYPE       AFFILIATION CLASSIFICATION      USE_CASE  \\\n",
              "0              T10       Independent          C1000    ProductDev   \n",
              "1               T3       Independent          C2000  Preservation   \n",
              "2               T5  CompanySponsored          C3000    ProductDev   \n",
              "3               T3  CompanySponsored          C2000  Preservation   \n",
              "4               T3       Independent          C1000     Heathcare   \n",
              "\n",
              "   ORGANIZATION  STATUS     INCOME_AMT SPECIAL_CONSIDERATIONS  ASK_AMT  \\\n",
              "0   Association       1              0                      N     5000   \n",
              "1  Co-operative       1         1-9999                      N   108590   \n",
              "2   Association       1              0                      N     5000   \n",
              "3         Trust       1    10000-24999                      N     6692   \n",
              "4         Trust       1  100000-499999                      N   142590   \n",
              "\n",
              "   IS_SUCCESSFUL  \n",
              "0              1  \n",
              "1              1  \n",
              "2              0  \n",
              "3              1  \n",
              "4              1  "
            ],
            "text/html": [
              "\n",
              "  <div id=\"df-25129fea-5c49-4984-b88e-c6ebda3bd445\">\n",
>>>>>>> 7ac5f3b77ef58cb02fcbe61c7313d20ca1dad2d1
              "    <div class=\"colab-df-container\">\n",
              "      <div>\n",
              "<style scoped>\n",
              "    .dataframe tbody tr th:only-of-type {\n",
              "        vertical-align: middle;\n",
              "    }\n",
              "\n",
              "    .dataframe tbody tr th {\n",
              "        vertical-align: top;\n",
              "    }\n",
              "\n",
              "    .dataframe thead th {\n",
              "        text-align: right;\n",
              "    }\n",
              "</style>\n",
              "<table border=\"1\" class=\"dataframe\">\n",
              "  <thead>\n",
              "    <tr style=\"text-align: right;\">\n",
              "      <th></th>\n",
<<<<<<< HEAD
              "      <th>NAME</th>\n",
=======
>>>>>>> 7ac5f3b77ef58cb02fcbe61c7313d20ca1dad2d1
              "      <th>APPLICATION_TYPE</th>\n",
              "      <th>AFFILIATION</th>\n",
              "      <th>CLASSIFICATION</th>\n",
              "      <th>USE_CASE</th>\n",
              "      <th>ORGANIZATION</th>\n",
              "      <th>STATUS</th>\n",
              "      <th>INCOME_AMT</th>\n",
<<<<<<< HEAD
=======
              "      <th>SPECIAL_CONSIDERATIONS</th>\n",
>>>>>>> 7ac5f3b77ef58cb02fcbe61c7313d20ca1dad2d1
              "      <th>ASK_AMT</th>\n",
              "      <th>IS_SUCCESSFUL</th>\n",
              "    </tr>\n",
              "  </thead>\n",
              "  <tbody>\n",
              "    <tr>\n",
              "      <th>0</th>\n",
<<<<<<< HEAD
              "      <td>BLUE KNIGHTS MOTORCYCLE CLUB</td>\n",
=======
>>>>>>> 7ac5f3b77ef58cb02fcbe61c7313d20ca1dad2d1
              "      <td>T10</td>\n",
              "      <td>Independent</td>\n",
              "      <td>C1000</td>\n",
              "      <td>ProductDev</td>\n",
              "      <td>Association</td>\n",
              "      <td>1</td>\n",
              "      <td>0</td>\n",
<<<<<<< HEAD
=======
              "      <td>N</td>\n",
>>>>>>> 7ac5f3b77ef58cb02fcbe61c7313d20ca1dad2d1
              "      <td>5000</td>\n",
              "      <td>1</td>\n",
              "    </tr>\n",
              "    <tr>\n",
              "      <th>1</th>\n",
<<<<<<< HEAD
              "      <td>AMERICAN CHESAPEAKE CLUB CHARITABLE TR</td>\n",
=======
>>>>>>> 7ac5f3b77ef58cb02fcbe61c7313d20ca1dad2d1
              "      <td>T3</td>\n",
              "      <td>Independent</td>\n",
              "      <td>C2000</td>\n",
              "      <td>Preservation</td>\n",
              "      <td>Co-operative</td>\n",
              "      <td>1</td>\n",
              "      <td>1-9999</td>\n",
<<<<<<< HEAD
=======
              "      <td>N</td>\n",
>>>>>>> 7ac5f3b77ef58cb02fcbe61c7313d20ca1dad2d1
              "      <td>108590</td>\n",
              "      <td>1</td>\n",
              "    </tr>\n",
              "    <tr>\n",
              "      <th>2</th>\n",
<<<<<<< HEAD
              "      <td>ST CLOUD PROFESSIONAL FIREFIGHTERS</td>\n",
=======
>>>>>>> 7ac5f3b77ef58cb02fcbe61c7313d20ca1dad2d1
              "      <td>T5</td>\n",
              "      <td>CompanySponsored</td>\n",
              "      <td>C3000</td>\n",
              "      <td>ProductDev</td>\n",
              "      <td>Association</td>\n",
              "      <td>1</td>\n",
              "      <td>0</td>\n",
<<<<<<< HEAD
=======
              "      <td>N</td>\n",
>>>>>>> 7ac5f3b77ef58cb02fcbe61c7313d20ca1dad2d1
              "      <td>5000</td>\n",
              "      <td>0</td>\n",
              "    </tr>\n",
              "    <tr>\n",
              "      <th>3</th>\n",
<<<<<<< HEAD
              "      <td>SOUTHSIDE ATHLETIC ASSOCIATION</td>\n",
=======
>>>>>>> 7ac5f3b77ef58cb02fcbe61c7313d20ca1dad2d1
              "      <td>T3</td>\n",
              "      <td>CompanySponsored</td>\n",
              "      <td>C2000</td>\n",
              "      <td>Preservation</td>\n",
              "      <td>Trust</td>\n",
              "      <td>1</td>\n",
              "      <td>10000-24999</td>\n",
<<<<<<< HEAD
=======
              "      <td>N</td>\n",
>>>>>>> 7ac5f3b77ef58cb02fcbe61c7313d20ca1dad2d1
              "      <td>6692</td>\n",
              "      <td>1</td>\n",
              "    </tr>\n",
              "    <tr>\n",
              "      <th>4</th>\n",
<<<<<<< HEAD
              "      <td>GENETIC RESEARCH INSTITUTE OF THE DESERT</td>\n",
=======
>>>>>>> 7ac5f3b77ef58cb02fcbe61c7313d20ca1dad2d1
              "      <td>T3</td>\n",
              "      <td>Independent</td>\n",
              "      <td>C1000</td>\n",
              "      <td>Heathcare</td>\n",
              "      <td>Trust</td>\n",
              "      <td>1</td>\n",
              "      <td>100000-499999</td>\n",
<<<<<<< HEAD
=======
              "      <td>N</td>\n",
>>>>>>> 7ac5f3b77ef58cb02fcbe61c7313d20ca1dad2d1
              "      <td>142590</td>\n",
              "      <td>1</td>\n",
              "    </tr>\n",
              "  </tbody>\n",
              "</table>\n",
              "</div>\n",
<<<<<<< HEAD
              "      <button class=\"colab-df-convert\" onclick=\"convertToInteractive('df-cacd07f4-e106-4170-8d3a-50616e30909b')\"\n",
=======
              "      <button class=\"colab-df-convert\" onclick=\"convertToInteractive('df-25129fea-5c49-4984-b88e-c6ebda3bd445')\"\n",
>>>>>>> 7ac5f3b77ef58cb02fcbe61c7313d20ca1dad2d1
              "              title=\"Convert this dataframe to an interactive table.\"\n",
              "              style=\"display:none;\">\n",
              "        \n",
              "  <svg xmlns=\"http://www.w3.org/2000/svg\" height=\"24px\"viewBox=\"0 0 24 24\"\n",
              "       width=\"24px\">\n",
              "    <path d=\"M0 0h24v24H0V0z\" fill=\"none\"/>\n",
              "    <path d=\"M18.56 5.44l.94 2.06.94-2.06 2.06-.94-2.06-.94-.94-2.06-.94 2.06-2.06.94zm-11 1L8.5 8.5l.94-2.06 2.06-.94-2.06-.94L8.5 2.5l-.94 2.06-2.06.94zm10 10l.94 2.06.94-2.06 2.06-.94-2.06-.94-.94-2.06-.94 2.06-2.06.94z\"/><path d=\"M17.41 7.96l-1.37-1.37c-.4-.4-.92-.59-1.43-.59-.52 0-1.04.2-1.43.59L10.3 9.45l-7.72 7.72c-.78.78-.78 2.05 0 2.83L4 21.41c.39.39.9.59 1.41.59.51 0 1.02-.2 1.41-.59l7.78-7.78 2.81-2.81c.8-.78.8-2.07 0-2.86zM5.41 20L4 18.59l7.72-7.72 1.47 1.35L5.41 20z\"/>\n",
              "  </svg>\n",
              "      </button>\n",
              "      \n",
              "  <style>\n",
              "    .colab-df-container {\n",
              "      display:flex;\n",
              "      flex-wrap:wrap;\n",
              "      gap: 12px;\n",
              "    }\n",
              "\n",
              "    .colab-df-convert {\n",
              "      background-color: #E8F0FE;\n",
              "      border: none;\n",
              "      border-radius: 50%;\n",
              "      cursor: pointer;\n",
              "      display: none;\n",
              "      fill: #1967D2;\n",
              "      height: 32px;\n",
              "      padding: 0 0 0 0;\n",
              "      width: 32px;\n",
              "    }\n",
              "\n",
              "    .colab-df-convert:hover {\n",
              "      background-color: #E2EBFA;\n",
              "      box-shadow: 0px 1px 2px rgba(60, 64, 67, 0.3), 0px 1px 3px 1px rgba(60, 64, 67, 0.15);\n",
              "      fill: #174EA6;\n",
              "    }\n",
              "\n",
              "    [theme=dark] .colab-df-convert {\n",
              "      background-color: #3B4455;\n",
              "      fill: #D2E3FC;\n",
              "    }\n",
              "\n",
              "    [theme=dark] .colab-df-convert:hover {\n",
              "      background-color: #434B5C;\n",
              "      box-shadow: 0px 1px 3px 1px rgba(0, 0, 0, 0.15);\n",
              "      filter: drop-shadow(0px 1px 2px rgba(0, 0, 0, 0.3));\n",
              "      fill: #FFFFFF;\n",
              "    }\n",
              "  </style>\n",
              "\n",
              "      <script>\n",
              "        const buttonEl =\n",
<<<<<<< HEAD
              "          document.querySelector('#df-cacd07f4-e106-4170-8d3a-50616e30909b button.colab-df-convert');\n",
=======
              "          document.querySelector('#df-25129fea-5c49-4984-b88e-c6ebda3bd445 button.colab-df-convert');\n",
>>>>>>> 7ac5f3b77ef58cb02fcbe61c7313d20ca1dad2d1
              "        buttonEl.style.display =\n",
              "          google.colab.kernel.accessAllowed ? 'block' : 'none';\n",
              "\n",
              "        async function convertToInteractive(key) {\n",
<<<<<<< HEAD
              "          const element = document.querySelector('#df-cacd07f4-e106-4170-8d3a-50616e30909b');\n",
=======
              "          const element = document.querySelector('#df-25129fea-5c49-4984-b88e-c6ebda3bd445');\n",
>>>>>>> 7ac5f3b77ef58cb02fcbe61c7313d20ca1dad2d1
              "          const dataTable =\n",
              "            await google.colab.kernel.invokeFunction('convertToInteractive',\n",
              "                                                     [key], {});\n",
              "          if (!dataTable) return;\n",
              "\n",
              "          const docLinkHtml = 'Like what you see? Visit the ' +\n",
              "            '<a target=\"_blank\" href=https://colab.research.google.com/notebooks/data_table.ipynb>data table notebook</a>'\n",
              "            + ' to learn more about interactive tables.';\n",
              "          element.innerHTML = '';\n",
              "          dataTable['output_type'] = 'display_data';\n",
              "          await google.colab.output.renderOutput(dataTable, element);\n",
              "          const docLink = document.createElement('div');\n",
              "          docLink.innerHTML = docLinkHtml;\n",
              "          element.appendChild(docLink);\n",
              "        }\n",
              "      </script>\n",
              "    </div>\n",
              "  </div>\n",
              "  "
<<<<<<< HEAD
            ],
            "text/plain": [
              "                                       NAME APPLICATION_TYPE  \\\n",
              "0              BLUE KNIGHTS MOTORCYCLE CLUB              T10   \n",
              "1    AMERICAN CHESAPEAKE CLUB CHARITABLE TR               T3   \n",
              "2        ST CLOUD PROFESSIONAL FIREFIGHTERS               T5   \n",
              "3            SOUTHSIDE ATHLETIC ASSOCIATION               T3   \n",
              "4  GENETIC RESEARCH INSTITUTE OF THE DESERT               T3   \n",
              "\n",
              "        AFFILIATION CLASSIFICATION      USE_CASE  ORGANIZATION  STATUS  \\\n",
              "0       Independent          C1000    ProductDev   Association       1   \n",
              "1       Independent          C2000  Preservation  Co-operative       1   \n",
              "2  CompanySponsored          C3000    ProductDev   Association       1   \n",
              "3  CompanySponsored          C2000  Preservation         Trust       1   \n",
              "4       Independent          C1000     Heathcare         Trust       1   \n",
              "\n",
              "      INCOME_AMT  ASK_AMT  IS_SUCCESSFUL  \n",
              "0              0     5000              1  \n",
              "1         1-9999   108590              1  \n",
              "2              0     5000              0  \n",
              "3    10000-24999     6692              1  \n",
              "4  100000-499999   142590              1  "
            ]
          },
          "execution_count": 4,
          "metadata": {},
          "output_type": "execute_result"
        }
      ],
      "source": [
        "# Drop the non-beneficial ID columns, 'EIN', SPECIAL_CONSIDERATIONS\n",
        "\n",
        "feature_columns = application_df.drop([ \"EIN\", \"SPECIAL_CONSIDERATIONS\"], axis=1)\n",
=======
            ]
          },
          "metadata": {},
          "execution_count": 3
        }
      ],
      "source": [
        "# Drop the non-beneficial ID columns, 'EIN' and 'NAME'.\n",
        "\n",
        "feature_columns = application_df.drop([\"EIN\", \"NAME\"], axis=1)\n",
>>>>>>> 7ac5f3b77ef58cb02fcbe61c7313d20ca1dad2d1
        "feature_columns. head()"
      ]
    },
    {
      "cell_type": "code",
<<<<<<< HEAD
      "execution_count": 5,
      "metadata": {
        "colab": {
          "base_uri": "https://localhost:8080/"
        },
        "id": "Xt_5M2z98Sxs",
        "outputId": "b682a9c8-56dd-4dc5-b881-aa69c42c5ae9"
      },
      "outputs": [
        {
          "data": {
            "text/plain": [
              "NAME                6214\n",
              "APPLICATION_TYPE      13\n",
              "AFFILIATION            5\n",
              "CLASSIFICATION        40\n",
              "USE_CASE               5\n",
              "ORGANIZATION           4\n",
              "STATUS                 2\n",
              "INCOME_AMT             9\n",
              "ASK_AMT             2543\n",
              "IS_SUCCESSFUL          2\n",
              "dtype: int64"
            ]
          },
          "execution_count": 5,
          "metadata": {},
          "output_type": "execute_result"
=======
      "execution_count": 4,
      "metadata": {
        "id": "Xt_5M2z98Sxs",
        "outputId": "8b745490-db61-4905-a06e-500c2c0bb349",
        "colab": {
          "base_uri": "https://localhost:8080/"
        }
      },
      "outputs": [
        {
          "output_type": "execute_result",
          "data": {
            "text/plain": [
              "APPLICATION_TYPE            17\n",
              "AFFILIATION                  6\n",
              "CLASSIFICATION              71\n",
              "USE_CASE                     5\n",
              "ORGANIZATION                 4\n",
              "STATUS                       2\n",
              "INCOME_AMT                   9\n",
              "SPECIAL_CONSIDERATIONS       2\n",
              "ASK_AMT                   8747\n",
              "IS_SUCCESSFUL                2\n",
              "dtype: int64"
            ]
          },
          "metadata": {},
          "execution_count": 4
>>>>>>> 7ac5f3b77ef58cb02fcbe61c7313d20ca1dad2d1
        }
      ],
      "source": [
        "# Determine the number of unique values in each column.\n",
        "unique_counts = feature_columns.nunique()\n",
        "unique_counts"
      ]
    },
    {
      "cell_type": "code",
<<<<<<< HEAD
      "execution_count": 6,
      "metadata": {
        "colab": {
          "base_uri": "https://localhost:8080/"
        },
        "id": "qYv7v5pk8Sxt",
        "outputId": "4434a3c6-e26c-4be5-8c8c-63c45b979201"
      },
      "outputs": [
        {
          "name": "stdout",
          "output_type": "stream",
          "text": [
            "UNITED STATES BOWLING CONGRESS INC                    416\n",
            "ALPHA PHI SIGMA                                       253\n",
            "WASHINGTON STATE UNIVERSITY                           158\n",
            "TOASTMASTERS INTERNATIONAL                            148\n",
            "PTA TEXAS CONGRESS                                    134\n",
            "                                                     ... \n",
            "HEY GIRLFRIEND NETWORK                                  1\n",
            "WELCOME HOME PROJECT                                    1\n",
            "LANDER COUNTY SHERIFF SEARCH & RESCUE                   1\n",
            "FORESTRY MANAGEMENT INC                                 1\n",
            "SOUTHERN CALIFORNIA AND NEVADA CYCLING ASSOCIATION      1\n",
            "Name: NAME, Length: 6214, dtype: int64\n"
          ]
        }
      ],
      "source": [
        "# Look at APPLICATION_TYPE value counts for binning\n",
        "application_counts = feature_columns['NAME'].value_counts()\n",
        "print(application_counts)\n"
      ]
    },
    {
      "cell_type": "code",
      "execution_count": 7,
      "metadata": {
        "colab": {
          "base_uri": "https://localhost:8080/"
        },
        "id": "hfN82ezH8Sxt",
        "outputId": "f21847e8-f20e-4348-c094-72f67def9f1f"
      },
      "outputs": [
        {
          "data": {
            "text/plain": [
              "Other    10000\n",
              "Name: NAME, dtype: int64"
            ]
          },
          "execution_count": 7,
          "metadata": {},
          "output_type": "execute_result"
        }
      ],
      "source": [
        "# Choose a cutoff value and create a list of application types to be replaced\n",
        "# use the variable name `application_types_to_replace`\n",
        "cutoff = 1000\n",
        "application_types_to_replace = application_counts[application_counts < cutoff].index.tolist()\n",
        "\n",
        "\n",
        "# Replace in dataframe\n",
        "for app in application_types_to_replace:\n",
        "    application_df['NAME'] = application_df['NAME'].replace(app,\"Other\")\n",
        "\n",
        "# Check to make sure binning was successful\n",
        "application_df['NAME'].value_counts()"
      ]
    },
    {
      "cell_type": "code",
      "execution_count": 8,
      "metadata": {
        "colab": {
          "base_uri": "https://localhost:8080/"
        },
        "id": "XwT6DRNBYHEm",
        "outputId": "f5d54006-07cc-40c1-d4c9-64bdef02a5ce"
      },
      "outputs": [
        {
          "name": "stdout",
          "output_type": "stream",
          "text": [
            "T3     7780\n",
            "T4      408\n",
            "T6      391\n",
            "T8      388\n",
            "T19     273\n",
            "T10     266\n",
            "T7      238\n",
            "T5      176\n",
            "T9       47\n",
            "T13      19\n",
            "T12       7\n",
            "T2        6\n",
            "T29       1\n",
=======
      "execution_count": 5,
      "metadata": {
        "id": "qYv7v5pk8Sxt",
        "outputId": "d0e63c2e-f341-4cc0-a0ea-f85087c7a75c",
        "colab": {
          "base_uri": "https://localhost:8080/"
        }
      },
      "outputs": [
        {
          "output_type": "stream",
          "name": "stdout",
          "text": [
            "T3     27037\n",
            "T4      1542\n",
            "T6      1216\n",
            "T5      1173\n",
            "T19     1065\n",
            "T8       737\n",
            "T7       725\n",
            "T10      528\n",
            "T9       156\n",
            "T13       66\n",
            "T12       27\n",
            "T2        16\n",
            "T25        3\n",
            "T14        3\n",
            "T29        2\n",
            "T15        2\n",
            "T17        1\n",
>>>>>>> 7ac5f3b77ef58cb02fcbe61c7313d20ca1dad2d1
            "Name: APPLICATION_TYPE, dtype: int64\n"
          ]
        }
      ],
      "source": [
        "# Look at APPLICATION_TYPE value counts for binning\n",
        "application_counts = feature_columns['APPLICATION_TYPE'].value_counts()\n",
<<<<<<< HEAD
        "print(application_counts)"
=======
        "print(application_counts)\n"
>>>>>>> 7ac5f3b77ef58cb02fcbe61c7313d20ca1dad2d1
      ]
    },
    {
      "cell_type": "code",
<<<<<<< HEAD
      "execution_count": 10,
      "metadata": {
        "colab": {
          "base_uri": "https://localhost:8080/"
        },
        "id": "Rl6BAxEsXTQ1",
        "outputId": "c3371373-c971-4d34-bf5a-57e1582e3578"
      },
      "outputs": [
        {
          "data": {
            "text/plain": [
              "T3       7780\n",
              "Other    2220\n",
              "Name: APPLICATION_TYPE, dtype: int64"
            ]
          },
          "execution_count": 10,
          "metadata": {},
          "output_type": "execute_result"
=======
      "execution_count": 6,
      "metadata": {
        "id": "hfN82ezH8Sxt",
        "outputId": "3227bdd1-361b-4fb6-8800-0ecf6596172d",
        "colab": {
          "base_uri": "https://localhost:8080/"
        }
      },
      "outputs": [
        {
          "output_type": "execute_result",
          "data": {
            "text/plain": [
              "T3       27037\n",
              "T4        1542\n",
              "T6        1216\n",
              "T5        1173\n",
              "T19       1065\n",
              "T8         737\n",
              "T7         725\n",
              "T10        528\n",
              "T9         156\n",
              "Other      120\n",
              "Name: APPLICATION_TYPE, dtype: int64"
            ]
          },
          "metadata": {},
          "execution_count": 6
>>>>>>> 7ac5f3b77ef58cb02fcbe61c7313d20ca1dad2d1
        }
      ],
      "source": [
        "# Choose a cutoff value and create a list of application types to be replaced\n",
        "# use the variable name `application_types_to_replace`\n",
<<<<<<< HEAD
        "cutoff = 1200\n",
=======
        "cutoff = 100\n",
>>>>>>> 7ac5f3b77ef58cb02fcbe61c7313d20ca1dad2d1
        "application_types_to_replace = application_counts[application_counts < cutoff].index.tolist()\n",
        "\n",
        "\n",
        "# Replace in dataframe\n",
        "for app in application_types_to_replace:\n",
        "    application_df['APPLICATION_TYPE'] = application_df['APPLICATION_TYPE'].replace(app,\"Other\")\n",
        "\n",
        "# Check to make sure binning was successful\n",
        "application_df['APPLICATION_TYPE'].value_counts()"
      ]
    },
    {
      "cell_type": "code",
<<<<<<< HEAD
      "execution_count": 11,
      "metadata": {
        "colab": {
          "base_uri": "https://localhost:8080/"
        },
        "id": "vXrTVNDs8Sxt",
        "outputId": "9b7816df-b264-475b-9270-cdaac313a53d"
      },
      "outputs": [
        {
          "name": "stdout",
          "output_type": "stream",
          "text": [
            "C1000    5421\n",
            "C2000    1862\n",
            "C1200    1366\n",
            "C3000     391\n",
            "C2100     291\n",
            "C7000     231\n",
            "C1700     107\n",
            "C4000      66\n",
            "C5000      44\n",
            "C2700      34\n",
            "C7100      29\n",
            "C1270      23\n",
            "C2800      21\n",
            "C7200      16\n",
            "C1240      12\n",
            "C2300      12\n",
            "C1300       9\n",
            "C7120       7\n",
            "C1800       6\n",
            "C1400       6\n",
            "C8200       5\n",
            "C1500       5\n",
            "C1230       5\n",
            "C7210       4\n",
            "C1280       3\n",
            "C6000       3\n",
            "C8000       3\n",
            "C1250       2\n",
            "C1260       2\n",
            "C2710       2\n",
            "C4100       2\n",
            "C1238       2\n",
            "C2561       1\n",
            "C1245       1\n",
            "C1235       1\n",
            "C1720       1\n",
            "C1257       1\n",
            "C4500       1\n",
            "C2400       1\n",
            "C8210       1\n",
            "Name: CLASSIFICATION, dtype: int64\n"
=======
      "execution_count": 7,
      "metadata": {
        "id": "vXrTVNDs8Sxt",
        "outputId": "1f810e86-b258-4694-d556-4bbca1126c1a",
        "colab": {
          "base_uri": "https://localhost:8080/"
        }
      },
      "outputs": [
        {
          "output_type": "stream",
          "name": "stdout",
          "text": [
            "C1000    17326\n",
            "C2000     6074\n",
            "C1200     4837\n",
            "C3000     1918\n",
            "C2100     1883\n",
            "         ...  \n",
            "C4120        1\n",
            "C8210        1\n",
            "C2561        1\n",
            "C4500        1\n",
            "C2150        1\n",
            "Name: CLASSIFICATION, Length: 71, dtype: int64\n"
>>>>>>> 7ac5f3b77ef58cb02fcbe61c7313d20ca1dad2d1
          ]
        }
      ],
      "source": [
        "# Look at CLASSIFICATION value counts for binning\n",
        "classification_counts = application_df['CLASSIFICATION'].value_counts()\n",
        "print(classification_counts)\n"
      ]
    },
    {
      "cell_type": "code",
<<<<<<< HEAD
      "execution_count": 12,
      "metadata": {
        "colab": {
          "base_uri": "https://localhost:8080/"
        },
        "id": "XoaOz4Z08Sxu",
        "outputId": "7f843325-1274-4748-e146-5296cd6918be"
      },
      "outputs": [
        {
          "data": {
            "text/plain": [
              "C1000    5421\n",
              "C2000    1862\n",
              "C1200    1366\n",
              "C3000     391\n",
              "Other     331\n",
              "C2100     291\n",
              "C7000     231\n",
              "C1700     107\n",
              "Name: CLASSIFICATION, dtype: int64"
            ]
          },
          "execution_count": 12,
          "metadata": {},
          "output_type": "execute_result"
        }
      ],
      "source": [
        "cutoff = 100\n",
        "application_types_to_replace = classification_counts[classification_counts < cutoff].index.tolist()\n",
        "\n",
        "\n",
        "# Replace in dataframe\n",
        "for app in application_types_to_replace:\n",
        "    application_df['CLASSIFICATION'] = application_df['CLASSIFICATION'].replace(app,\"Other\")\n",
        "\n",
        "# Check to make sure binning was successful\n",
        "application_df['CLASSIFICATION'].value_counts()\n"
=======
      "execution_count": 8,
      "metadata": {
        "id": "XoaOz4Z08Sxu",
        "outputId": "335a21c5-0d6c-4606-f073-90c4b08a5689",
        "colab": {
          "base_uri": "https://localhost:8080/"
        }
      },
      "outputs": [
        {
          "output_type": "stream",
          "name": "stdout",
          "text": [
            "C1000    17326\n",
            "C2000     6074\n",
            "C1200     4837\n",
            "C3000     1918\n",
            "C2100     1883\n",
            "C7000      777\n",
            "C1700      287\n",
            "C4000      194\n",
            "C5000      116\n",
            "C1270      114\n",
            "C2700      104\n",
            "C2800       95\n",
            "C7100       75\n",
            "C1300       58\n",
            "C1280       50\n",
            "C1230       36\n",
            "C1400       34\n",
            "C7200       32\n",
            "C2300       32\n",
            "C1240       30\n",
            "C8000       20\n",
            "C7120       18\n",
            "C1500       16\n",
            "C1800       15\n",
            "C6000       15\n",
            "C1250       14\n",
            "C8200       11\n",
            "C1238       10\n",
            "C1278       10\n",
            "C1235        9\n",
            "C1237        9\n",
            "C7210        7\n",
            "C2400        6\n",
            "C1720        6\n",
            "C4100        6\n",
            "C1257        5\n",
            "C1600        5\n",
            "C1260        3\n",
            "C2710        3\n",
            "C0           3\n",
            "C3200        2\n",
            "C1234        2\n",
            "C1246        2\n",
            "C1267        2\n",
            "C1256        2\n",
            "Name: CLASSIFICATION, dtype: int64\n"
          ]
        }
      ],
      "source": [
        "# You may find it helpful to look at CLASSIFICATION value counts >1\n",
        "classification_counts = application_df['CLASSIFICATION'].value_counts()\n",
        "classification_counts_greater_than_1 = classification_counts[classification_counts > 1]\n",
        "print(classification_counts_greater_than_1)\n"
      ]
    },
    {
      "cell_type": "code",
      "execution_count": 9,
      "metadata": {
        "id": "_gU3C9yr8Sxu",
        "outputId": "605d9c1b-20ec-4e1b-8c4b-1ea59cda29c1",
        "colab": {
          "base_uri": "https://localhost:8080/"
        }
      },
      "outputs": [
        {
          "output_type": "execute_result",
          "data": {
            "text/plain": [
              "C1000    17326\n",
              "C2000     6074\n",
              "C1200     4837\n",
              "C3000     1918\n",
              "C2100     1883\n",
              "C7000      777\n",
              "C1700      287\n",
              "C4000      194\n",
              "C5000      116\n",
              "C1270      114\n",
              "C2700      104\n",
              "Other       98\n",
              "C2800       95\n",
              "C7100       75\n",
              "C1300       58\n",
              "C1280       50\n",
              "C1230       36\n",
              "C1400       34\n",
              "C7200       32\n",
              "C2300       32\n",
              "C1240       30\n",
              "C8000       20\n",
              "C7120       18\n",
              "C1500       16\n",
              "C1800       15\n",
              "C6000       15\n",
              "C1250       14\n",
              "C8200       11\n",
              "C1238       10\n",
              "C1278       10\n",
              "Name: CLASSIFICATION, dtype: int64"
            ]
          },
          "metadata": {},
          "execution_count": 9
        }
      ],
      "source": [
        "# Choose a cutoff value and create a list of classifications to be replaced\n",
        "# use the variable name `classifications_to_replace`\n",
        "cutoff = 10\n",
        "classifications_to_replace = classification_counts[classification_counts < cutoff].index.tolist()\n",
        "\n",
        "\n",
        "# Replace in dataframe\n",
        "for cls in classifications_to_replace:\n",
        "    application_df['CLASSIFICATION'] = application_df['CLASSIFICATION'].replace(cls,\"Other\")\n",
        "    \n",
        "# Check to make sure binning was successful\n",
        "application_df['CLASSIFICATION'].value_counts()"
>>>>>>> 7ac5f3b77ef58cb02fcbe61c7313d20ca1dad2d1
      ]
    },
    {
      "cell_type": "code",
<<<<<<< HEAD
      "execution_count": 13,
      "metadata": {
        "colab": {
          "base_uri": "https://localhost:8080/",
          "height": 901
        },
        "id": "kOy2fuvAaA1H",
        "outputId": "9a9602df-73a6-41ff-fcf1-07d46c90c8a9"
      },
      "outputs": [
        {
          "data": {
            "text/html": [
              "\n",
              "  <div id=\"df-02dca4ec-261b-4f43-9168-749db39dd50a\">\n",
              "    <div class=\"colab-df-container\">\n",
              "      <div>\n",
              "<style scoped>\n",
              "    .dataframe tbody tr th:only-of-type {\n",
              "        vertical-align: middle;\n",
              "    }\n",
              "\n",
              "    .dataframe tbody tr th {\n",
              "        vertical-align: top;\n",
              "    }\n",
              "\n",
              "    .dataframe thead th {\n",
              "        text-align: right;\n",
              "    }\n",
              "</style>\n",
              "<table border=\"1\" class=\"dataframe\">\n",
              "  <thead>\n",
              "    <tr style=\"text-align: right;\">\n",
              "      <th></th>\n",
              "      <th>NAME</th>\n",
              "      <th>APPLICATION_TYPE</th>\n",
              "      <th>AFFILIATION</th>\n",
              "      <th>CLASSIFICATION</th>\n",
              "      <th>USE_CASE</th>\n",
              "      <th>ORGANIZATION</th>\n",
              "      <th>STATUS</th>\n",
              "      <th>INCOME_AMT</th>\n",
              "      <th>ASK_AMT</th>\n",
              "      <th>IS_SUCCESSFUL</th>\n",
              "    </tr>\n",
              "  </thead>\n",
              "  <tbody>\n",
              "    <tr>\n",
              "      <th>0</th>\n",
              "      <td>BLUE KNIGHTS MOTORCYCLE CLUB</td>\n",
              "      <td>T10</td>\n",
              "      <td>Independent</td>\n",
              "      <td>C1000</td>\n",
              "      <td>ProductDev</td>\n",
              "      <td>Association</td>\n",
              "      <td>1</td>\n",
              "      <td>0</td>\n",
              "      <td>5000</td>\n",
              "      <td>1</td>\n",
              "    </tr>\n",
              "    <tr>\n",
              "      <th>1</th>\n",
              "      <td>AMERICAN CHESAPEAKE CLUB CHARITABLE TR</td>\n",
              "      <td>T3</td>\n",
              "      <td>Independent</td>\n",
              "      <td>C2000</td>\n",
              "      <td>Preservation</td>\n",
              "      <td>Co-operative</td>\n",
              "      <td>1</td>\n",
              "      <td>1-9999</td>\n",
              "      <td>108590</td>\n",
              "      <td>1</td>\n",
              "    </tr>\n",
              "    <tr>\n",
              "      <th>2</th>\n",
              "      <td>ST CLOUD PROFESSIONAL FIREFIGHTERS</td>\n",
              "      <td>T5</td>\n",
              "      <td>CompanySponsored</td>\n",
              "      <td>C3000</td>\n",
              "      <td>ProductDev</td>\n",
              "      <td>Association</td>\n",
              "      <td>1</td>\n",
              "      <td>0</td>\n",
              "      <td>5000</td>\n",
              "      <td>0</td>\n",
              "    </tr>\n",
              "    <tr>\n",
              "      <th>3</th>\n",
              "      <td>SOUTHSIDE ATHLETIC ASSOCIATION</td>\n",
              "      <td>T3</td>\n",
              "      <td>CompanySponsored</td>\n",
              "      <td>C2000</td>\n",
              "      <td>Preservation</td>\n",
              "      <td>Trust</td>\n",
              "      <td>1</td>\n",
              "      <td>10000-24999</td>\n",
              "      <td>6692</td>\n",
              "      <td>1</td>\n",
              "    </tr>\n",
              "    <tr>\n",
              "      <th>4</th>\n",
              "      <td>GENETIC RESEARCH INSTITUTE OF THE DESERT</td>\n",
              "      <td>T3</td>\n",
              "      <td>Independent</td>\n",
              "      <td>C1000</td>\n",
              "      <td>Heathcare</td>\n",
              "      <td>Trust</td>\n",
              "      <td>1</td>\n",
              "      <td>100000-499999</td>\n",
              "      <td>142590</td>\n",
              "      <td>1</td>\n",
              "    </tr>\n",
              "    <tr>\n",
              "      <th>...</th>\n",
              "      <td>...</td>\n",
              "      <td>...</td>\n",
              "      <td>...</td>\n",
              "      <td>...</td>\n",
              "      <td>...</td>\n",
              "      <td>...</td>\n",
              "      <td>...</td>\n",
              "      <td>...</td>\n",
              "      <td>...</td>\n",
              "      <td>...</td>\n",
              "    </tr>\n",
              "    <tr>\n",
              "      <th>9995</th>\n",
              "      <td>FASTFRIENDS GREYHOUND ADOPTION OF CALIFORNIA INC</td>\n",
              "      <td>T3</td>\n",
              "      <td>Independent</td>\n",
              "      <td>C4000</td>\n",
              "      <td>Preservation</td>\n",
              "      <td>Trust</td>\n",
              "      <td>1</td>\n",
              "      <td>100000-499999</td>\n",
              "      <td>80168</td>\n",
              "      <td>1</td>\n",
              "    </tr>\n",
              "    <tr>\n",
              "      <th>9996</th>\n",
              "      <td>COMMUNITY DEVELOPMENT PROJECTS INC</td>\n",
              "      <td>T3</td>\n",
              "      <td>Independent</td>\n",
              "      <td>C1000</td>\n",
              "      <td>Preservation</td>\n",
              "      <td>Trust</td>\n",
              "      <td>1</td>\n",
              "      <td>100000-499999</td>\n",
              "      <td>55173</td>\n",
              "      <td>1</td>\n",
              "    </tr>\n",
              "    <tr>\n",
              "      <th>9997</th>\n",
              "      <td>FOUNDATION FOR DANCE EDUCATION</td>\n",
              "      <td>T3</td>\n",
              "      <td>Independent</td>\n",
              "      <td>C1000</td>\n",
              "      <td>Preservation</td>\n",
              "      <td>Trust</td>\n",
              "      <td>1</td>\n",
              "      <td>100000-499999</td>\n",
              "      <td>187189</td>\n",
              "      <td>0</td>\n",
              "    </tr>\n",
              "    <tr>\n",
              "      <th>9998</th>\n",
              "      <td>AMERICAN INSTITUTE OF GRAPHIC ARTS</td>\n",
              "      <td>T3</td>\n",
              "      <td>CompanySponsored</td>\n",
              "      <td>C2000</td>\n",
              "      <td>Preservation</td>\n",
              "      <td>Trust</td>\n",
              "      <td>1</td>\n",
              "      <td>25000-99999</td>\n",
              "      <td>12311</td>\n",
              "      <td>1</td>\n",
              "    </tr>\n",
              "    <tr>\n",
              "      <th>9999</th>\n",
              "      <td>SOUTHERN CALIFORNIA AND NEVADA CYCLING ASSOCIA...</td>\n",
              "      <td>T4</td>\n",
              "      <td>Independent</td>\n",
              "      <td>C3000</td>\n",
              "      <td>ProductDev</td>\n",
              "      <td>Trust</td>\n",
              "      <td>1</td>\n",
              "      <td>25000-99999</td>\n",
              "      <td>53143</td>\n",
              "      <td>1</td>\n",
              "    </tr>\n",
              "  </tbody>\n",
              "</table>\n",
              "<p>10000 rows × 10 columns</p>\n",
              "</div>\n",
              "      <button class=\"colab-df-convert\" onclick=\"convertToInteractive('df-02dca4ec-261b-4f43-9168-749db39dd50a')\"\n",
              "              title=\"Convert this dataframe to an interactive table.\"\n",
              "              style=\"display:none;\">\n",
              "        \n",
              "  <svg xmlns=\"http://www.w3.org/2000/svg\" height=\"24px\"viewBox=\"0 0 24 24\"\n",
              "       width=\"24px\">\n",
              "    <path d=\"M0 0h24v24H0V0z\" fill=\"none\"/>\n",
              "    <path d=\"M18.56 5.44l.94 2.06.94-2.06 2.06-.94-2.06-.94-.94-2.06-.94 2.06-2.06.94zm-11 1L8.5 8.5l.94-2.06 2.06-.94-2.06-.94L8.5 2.5l-.94 2.06-2.06.94zm10 10l.94 2.06.94-2.06 2.06-.94-2.06-.94-.94-2.06-.94 2.06-2.06.94z\"/><path d=\"M17.41 7.96l-1.37-1.37c-.4-.4-.92-.59-1.43-.59-.52 0-1.04.2-1.43.59L10.3 9.45l-7.72 7.72c-.78.78-.78 2.05 0 2.83L4 21.41c.39.39.9.59 1.41.59.51 0 1.02-.2 1.41-.59l7.78-7.78 2.81-2.81c.8-.78.8-2.07 0-2.86zM5.41 20L4 18.59l7.72-7.72 1.47 1.35L5.41 20z\"/>\n",
              "  </svg>\n",
              "      </button>\n",
              "      \n",
              "  <style>\n",
              "    .colab-df-container {\n",
              "      display:flex;\n",
              "      flex-wrap:wrap;\n",
              "      gap: 12px;\n",
              "    }\n",
              "\n",
              "    .colab-df-convert {\n",
              "      background-color: #E8F0FE;\n",
              "      border: none;\n",
              "      border-radius: 50%;\n",
              "      cursor: pointer;\n",
              "      display: none;\n",
              "      fill: #1967D2;\n",
              "      height: 32px;\n",
              "      padding: 0 0 0 0;\n",
              "      width: 32px;\n",
              "    }\n",
              "\n",
              "    .colab-df-convert:hover {\n",
              "      background-color: #E2EBFA;\n",
              "      box-shadow: 0px 1px 2px rgba(60, 64, 67, 0.3), 0px 1px 3px 1px rgba(60, 64, 67, 0.15);\n",
              "      fill: #174EA6;\n",
              "    }\n",
              "\n",
              "    [theme=dark] .colab-df-convert {\n",
              "      background-color: #3B4455;\n",
              "      fill: #D2E3FC;\n",
              "    }\n",
              "\n",
              "    [theme=dark] .colab-df-convert:hover {\n",
              "      background-color: #434B5C;\n",
              "      box-shadow: 0px 1px 3px 1px rgba(0, 0, 0, 0.15);\n",
              "      filter: drop-shadow(0px 1px 2px rgba(0, 0, 0, 0.3));\n",
              "      fill: #FFFFFF;\n",
              "    }\n",
              "  </style>\n",
              "\n",
              "      <script>\n",
              "        const buttonEl =\n",
              "          document.querySelector('#df-02dca4ec-261b-4f43-9168-749db39dd50a button.colab-df-convert');\n",
              "        buttonEl.style.display =\n",
              "          google.colab.kernel.accessAllowed ? 'block' : 'none';\n",
              "\n",
              "        async function convertToInteractive(key) {\n",
              "          const element = document.querySelector('#df-02dca4ec-261b-4f43-9168-749db39dd50a');\n",
              "          const dataTable =\n",
              "            await google.colab.kernel.invokeFunction('convertToInteractive',\n",
              "                                                     [key], {});\n",
              "          if (!dataTable) return;\n",
              "\n",
              "          const docLinkHtml = 'Like what you see? Visit the ' +\n",
              "            '<a target=\"_blank\" href=https://colab.research.google.com/notebooks/data_table.ipynb>data table notebook</a>'\n",
              "            + ' to learn more about interactive tables.';\n",
              "          element.innerHTML = '';\n",
              "          dataTable['output_type'] = 'display_data';\n",
              "          await google.colab.output.renderOutput(dataTable, element);\n",
              "          const docLink = document.createElement('div');\n",
              "          docLink.innerHTML = docLinkHtml;\n",
              "          element.appendChild(docLink);\n",
              "        }\n",
              "      </script>\n",
              "    </div>\n",
              "  </div>\n",
              "  "
            ],
            "text/plain": [
              "                                                   NAME APPLICATION_TYPE  \\\n",
              "0                          BLUE KNIGHTS MOTORCYCLE CLUB              T10   \n",
              "1                AMERICAN CHESAPEAKE CLUB CHARITABLE TR               T3   \n",
              "2                    ST CLOUD PROFESSIONAL FIREFIGHTERS               T5   \n",
              "3                        SOUTHSIDE ATHLETIC ASSOCIATION               T3   \n",
              "4              GENETIC RESEARCH INSTITUTE OF THE DESERT               T3   \n",
              "...                                                 ...              ...   \n",
              "9995   FASTFRIENDS GREYHOUND ADOPTION OF CALIFORNIA INC               T3   \n",
              "9996                 COMMUNITY DEVELOPMENT PROJECTS INC               T3   \n",
              "9997                     FOUNDATION FOR DANCE EDUCATION               T3   \n",
              "9998                 AMERICAN INSTITUTE OF GRAPHIC ARTS               T3   \n",
              "9999  SOUTHERN CALIFORNIA AND NEVADA CYCLING ASSOCIA...               T4   \n",
              "\n",
              "           AFFILIATION CLASSIFICATION      USE_CASE  ORGANIZATION  STATUS  \\\n",
              "0          Independent          C1000    ProductDev   Association       1   \n",
              "1          Independent          C2000  Preservation  Co-operative       1   \n",
              "2     CompanySponsored          C3000    ProductDev   Association       1   \n",
              "3     CompanySponsored          C2000  Preservation         Trust       1   \n",
              "4          Independent          C1000     Heathcare         Trust       1   \n",
              "...                ...            ...           ...           ...     ...   \n",
              "9995       Independent          C4000  Preservation         Trust       1   \n",
              "9996       Independent          C1000  Preservation         Trust       1   \n",
              "9997       Independent          C1000  Preservation         Trust       1   \n",
              "9998  CompanySponsored          C2000  Preservation         Trust       1   \n",
              "9999       Independent          C3000    ProductDev         Trust       1   \n",
              "\n",
              "         INCOME_AMT  ASK_AMT  IS_SUCCESSFUL  \n",
              "0                 0     5000              1  \n",
              "1            1-9999   108590              1  \n",
              "2                 0     5000              0  \n",
              "3       10000-24999     6692              1  \n",
              "4     100000-499999   142590              1  \n",
              "...             ...      ...            ...  \n",
              "9995  100000-499999    80168              1  \n",
              "9996  100000-499999    55173              1  \n",
              "9997  100000-499999   187189              0  \n",
              "9998    25000-99999    12311              1  \n",
              "9999    25000-99999    53143              1  \n",
              "\n",
              "[10000 rows x 10 columns]"
            ]
          },
          "execution_count": 13,
          "metadata": {},
          "output_type": "execute_result"
        }
      ],
      "source": [
        "feature_columns"
      ]
    },
    {
      "cell_type": "code",
      "execution_count": 14,
      "metadata": {
        "colab": {
          "base_uri": "https://localhost:8080/",
          "height": 351
        },
        "id": "l6d2rs4d8Sxv",
        "outputId": "7b308f3d-836d-4796-ed75-cd0cfb374e9d"
      },
      "outputs": [
        {
          "data": {
            "text/html": [
              "\n",
              "  <div id=\"df-646f5f0c-cdb3-44fb-93f5-1688630b1690\">\n",
=======
      "execution_count": 10,
      "metadata": {
        "id": "l6d2rs4d8Sxv",
        "colab": {
          "base_uri": "https://localhost:8080/",
          "height": 317
        },
        "outputId": "b18e01a9-6af6-4ee8-a40c-88c601ab43ef"
      },
      "outputs": [
        {
          "output_type": "execute_result",
          "data": {
            "text/plain": [
              "   ASK_AMT  IS_SUCCESSFUL  CLASSIFICATION_C0  CLASSIFICATION_C1000  \\\n",
              "0     5000              1                  0                     1   \n",
              "1   108590              1                  0                     0   \n",
              "2     5000              0                  0                     0   \n",
              "3     6692              1                  0                     0   \n",
              "4   142590              1                  0                     1   \n",
              "\n",
              "   CLASSIFICATION_C1200  CLASSIFICATION_C1230  CLASSIFICATION_C1234  \\\n",
              "0                     0                     0                     0   \n",
              "1                     0                     0                     0   \n",
              "2                     0                     0                     0   \n",
              "3                     0                     0                     0   \n",
              "4                     0                     0                     0   \n",
              "\n",
              "   CLASSIFICATION_C1235  CLASSIFICATION_C1236  CLASSIFICATION_C1237  ...  \\\n",
              "0                     0                     0                     0  ...   \n",
              "1                     0                     0                     0  ...   \n",
              "2                     0                     0                     0  ...   \n",
              "3                     0                     0                     0  ...   \n",
              "4                     0                     0                     0  ...   \n",
              "\n",
              "   INCOME_AMT_1-9999  INCOME_AMT_10000-24999  INCOME_AMT_100000-499999  \\\n",
              "0                  0                       0                         0   \n",
              "1                  1                       0                         0   \n",
              "2                  0                       0                         0   \n",
              "3                  0                       1                         0   \n",
              "4                  0                       0                         1   \n",
              "\n",
              "   INCOME_AMT_10M-50M  INCOME_AMT_1M-5M  INCOME_AMT_25000-99999  \\\n",
              "0                   0                 0                       0   \n",
              "1                   0                 0                       0   \n",
              "2                   0                 0                       0   \n",
              "3                   0                 0                       0   \n",
              "4                   0                 0                       0   \n",
              "\n",
              "   INCOME_AMT_50M+  INCOME_AMT_5M-10M  STATUS_0  STATUS_1  \n",
              "0                0                  0         0         1  \n",
              "1                0                  0         0         1  \n",
              "2                0                  0         0         1  \n",
              "3                0                  0         0         1  \n",
              "4                0                  0         0         1  \n",
              "\n",
              "[5 rows x 118 columns]"
            ],
            "text/html": [
              "\n",
              "  <div id=\"df-5da590d4-4a2e-4b23-86a9-3bb32ad66700\">\n",
>>>>>>> 7ac5f3b77ef58cb02fcbe61c7313d20ca1dad2d1
              "    <div class=\"colab-df-container\">\n",
              "      <div>\n",
              "<style scoped>\n",
              "    .dataframe tbody tr th:only-of-type {\n",
              "        vertical-align: middle;\n",
              "    }\n",
              "\n",
              "    .dataframe tbody tr th {\n",
              "        vertical-align: top;\n",
              "    }\n",
              "\n",
              "    .dataframe thead th {\n",
              "        text-align: right;\n",
              "    }\n",
              "</style>\n",
              "<table border=\"1\" class=\"dataframe\">\n",
              "  <thead>\n",
              "    <tr style=\"text-align: right;\">\n",
              "      <th></th>\n",
<<<<<<< HEAD
              "      <th>STATUS</th>\n",
              "      <th>ASK_AMT</th>\n",
              "      <th>IS_SUCCESSFUL</th>\n",
              "      <th>NAME_14TH ARMORED DIVISION</th>\n",
              "      <th>NAME_1930S GENERAL STORE MUSEUM</th>\n",
              "      <th>NAME_1963 GIBBS ALUMNI INC</th>\n",
              "      <th>NAME_2 B NON PROFIT CORPORATION</th>\n",
              "      <th>NAME_2041 FOUNDATION INCORPORATED</th>\n",
              "      <th>NAME_21ST CENTURY HARVEST FOUNDATION</th>\n",
              "      <th>NAME_21ST STREET FOUNDATION</th>\n",
              "      <th>...</th>\n",
              "      <th>ORGANIZATION_Trust</th>\n",
              "      <th>INCOME_AMT_0</th>\n",
=======
              "      <th>ASK_AMT</th>\n",
              "      <th>IS_SUCCESSFUL</th>\n",
              "      <th>CLASSIFICATION_C0</th>\n",
              "      <th>CLASSIFICATION_C1000</th>\n",
              "      <th>CLASSIFICATION_C1200</th>\n",
              "      <th>CLASSIFICATION_C1230</th>\n",
              "      <th>CLASSIFICATION_C1234</th>\n",
              "      <th>CLASSIFICATION_C1235</th>\n",
              "      <th>CLASSIFICATION_C1236</th>\n",
              "      <th>CLASSIFICATION_C1237</th>\n",
              "      <th>...</th>\n",
>>>>>>> 7ac5f3b77ef58cb02fcbe61c7313d20ca1dad2d1
              "      <th>INCOME_AMT_1-9999</th>\n",
              "      <th>INCOME_AMT_10000-24999</th>\n",
              "      <th>INCOME_AMT_100000-499999</th>\n",
              "      <th>INCOME_AMT_10M-50M</th>\n",
              "      <th>INCOME_AMT_1M-5M</th>\n",
              "      <th>INCOME_AMT_25000-99999</th>\n",
              "      <th>INCOME_AMT_50M+</th>\n",
              "      <th>INCOME_AMT_5M-10M</th>\n",
<<<<<<< HEAD
=======
              "      <th>STATUS_0</th>\n",
              "      <th>STATUS_1</th>\n",
>>>>>>> 7ac5f3b77ef58cb02fcbe61c7313d20ca1dad2d1
              "    </tr>\n",
              "  </thead>\n",
              "  <tbody>\n",
              "    <tr>\n",
              "      <th>0</th>\n",
<<<<<<< HEAD
              "      <td>1</td>\n",
              "      <td>5000</td>\n",
              "      <td>1</td>\n",
              "      <td>0</td>\n",
=======
              "      <td>5000</td>\n",
              "      <td>1</td>\n",
              "      <td>0</td>\n",
              "      <td>1</td>\n",
>>>>>>> 7ac5f3b77ef58cb02fcbe61c7313d20ca1dad2d1
              "      <td>0</td>\n",
              "      <td>0</td>\n",
              "      <td>0</td>\n",
              "      <td>0</td>\n",
              "      <td>0</td>\n",
              "      <td>0</td>\n",
              "      <td>...</td>\n",
              "      <td>0</td>\n",
<<<<<<< HEAD
              "      <td>1</td>\n",
              "      <td>0</td>\n",
              "      <td>0</td>\n",
              "      <td>0</td>\n",
              "      <td>0</td>\n",
              "      <td>0</td>\n",
              "      <td>0</td>\n",
              "      <td>0</td>\n",
              "      <td>0</td>\n",
              "    </tr>\n",
              "    <tr>\n",
              "      <th>1</th>\n",
              "      <td>1</td>\n",
=======
              "      <td>0</td>\n",
              "      <td>0</td>\n",
              "      <td>0</td>\n",
              "      <td>0</td>\n",
              "      <td>0</td>\n",
              "      <td>0</td>\n",
              "      <td>0</td>\n",
              "      <td>0</td>\n",
              "      <td>1</td>\n",
              "    </tr>\n",
              "    <tr>\n",
              "      <th>1</th>\n",
>>>>>>> 7ac5f3b77ef58cb02fcbe61c7313d20ca1dad2d1
              "      <td>108590</td>\n",
              "      <td>1</td>\n",
              "      <td>0</td>\n",
              "      <td>0</td>\n",
              "      <td>0</td>\n",
              "      <td>0</td>\n",
              "      <td>0</td>\n",
              "      <td>0</td>\n",
              "      <td>0</td>\n",
<<<<<<< HEAD
              "      <td>...</td>\n",
              "      <td>0</td>\n",
              "      <td>0</td>\n",
=======
              "      <td>0</td>\n",
              "      <td>...</td>\n",
>>>>>>> 7ac5f3b77ef58cb02fcbe61c7313d20ca1dad2d1
              "      <td>1</td>\n",
              "      <td>0</td>\n",
              "      <td>0</td>\n",
              "      <td>0</td>\n",
              "      <td>0</td>\n",
              "      <td>0</td>\n",
              "      <td>0</td>\n",
              "      <td>0</td>\n",
<<<<<<< HEAD
              "    </tr>\n",
              "    <tr>\n",
              "      <th>2</th>\n",
              "      <td>1</td>\n",
=======
              "      <td>0</td>\n",
              "      <td>1</td>\n",
              "    </tr>\n",
              "    <tr>\n",
              "      <th>2</th>\n",
>>>>>>> 7ac5f3b77ef58cb02fcbe61c7313d20ca1dad2d1
              "      <td>5000</td>\n",
              "      <td>0</td>\n",
              "      <td>0</td>\n",
              "      <td>0</td>\n",
              "      <td>0</td>\n",
              "      <td>0</td>\n",
              "      <td>0</td>\n",
              "      <td>0</td>\n",
              "      <td>0</td>\n",
<<<<<<< HEAD
              "      <td>...</td>\n",
              "      <td>0</td>\n",
              "      <td>1</td>\n",
              "      <td>0</td>\n",
              "      <td>0</td>\n",
              "      <td>0</td>\n",
              "      <td>0</td>\n",
              "      <td>0</td>\n",
              "      <td>0</td>\n",
              "      <td>0</td>\n",
              "      <td>0</td>\n",
              "    </tr>\n",
              "    <tr>\n",
              "      <th>3</th>\n",
              "      <td>1</td>\n",
=======
              "      <td>0</td>\n",
              "      <td>...</td>\n",
              "      <td>0</td>\n",
              "      <td>0</td>\n",
              "      <td>0</td>\n",
              "      <td>0</td>\n",
              "      <td>0</td>\n",
              "      <td>0</td>\n",
              "      <td>0</td>\n",
              "      <td>0</td>\n",
              "      <td>0</td>\n",
              "      <td>1</td>\n",
              "    </tr>\n",
              "    <tr>\n",
              "      <th>3</th>\n",
>>>>>>> 7ac5f3b77ef58cb02fcbe61c7313d20ca1dad2d1
              "      <td>6692</td>\n",
              "      <td>1</td>\n",
              "      <td>0</td>\n",
              "      <td>0</td>\n",
              "      <td>0</td>\n",
              "      <td>0</td>\n",
              "      <td>0</td>\n",
              "      <td>0</td>\n",
              "      <td>0</td>\n",
<<<<<<< HEAD
              "      <td>...</td>\n",
              "      <td>1</td>\n",
              "      <td>0</td>\n",
=======
              "      <td>0</td>\n",
              "      <td>...</td>\n",
>>>>>>> 7ac5f3b77ef58cb02fcbe61c7313d20ca1dad2d1
              "      <td>0</td>\n",
              "      <td>1</td>\n",
              "      <td>0</td>\n",
              "      <td>0</td>\n",
              "      <td>0</td>\n",
              "      <td>0</td>\n",
              "      <td>0</td>\n",
              "      <td>0</td>\n",
<<<<<<< HEAD
              "    </tr>\n",
              "    <tr>\n",
              "      <th>4</th>\n",
              "      <td>1</td>\n",
              "      <td>142590</td>\n",
              "      <td>1</td>\n",
              "      <td>0</td>\n",
=======
              "      <td>0</td>\n",
              "      <td>1</td>\n",
              "    </tr>\n",
              "    <tr>\n",
              "      <th>4</th>\n",
              "      <td>142590</td>\n",
              "      <td>1</td>\n",
              "      <td>0</td>\n",
              "      <td>1</td>\n",
>>>>>>> 7ac5f3b77ef58cb02fcbe61c7313d20ca1dad2d1
              "      <td>0</td>\n",
              "      <td>0</td>\n",
              "      <td>0</td>\n",
              "      <td>0</td>\n",
              "      <td>0</td>\n",
              "      <td>0</td>\n",
              "      <td>...</td>\n",
<<<<<<< HEAD
              "      <td>1</td>\n",
              "      <td>0</td>\n",
=======
>>>>>>> 7ac5f3b77ef58cb02fcbe61c7313d20ca1dad2d1
              "      <td>0</td>\n",
              "      <td>0</td>\n",
              "      <td>1</td>\n",
              "      <td>0</td>\n",
              "      <td>0</td>\n",
              "      <td>0</td>\n",
              "      <td>0</td>\n",
              "      <td>0</td>\n",
<<<<<<< HEAD
              "    </tr>\n",
              "  </tbody>\n",
              "</table>\n",
              "<p>5 rows × 6293 columns</p>\n",
              "</div>\n",
              "      <button class=\"colab-df-convert\" onclick=\"convertToInteractive('df-646f5f0c-cdb3-44fb-93f5-1688630b1690')\"\n",
=======
              "      <td>0</td>\n",
              "      <td>1</td>\n",
              "    </tr>\n",
              "  </tbody>\n",
              "</table>\n",
              "<p>5 rows × 118 columns</p>\n",
              "</div>\n",
              "      <button class=\"colab-df-convert\" onclick=\"convertToInteractive('df-5da590d4-4a2e-4b23-86a9-3bb32ad66700')\"\n",
>>>>>>> 7ac5f3b77ef58cb02fcbe61c7313d20ca1dad2d1
              "              title=\"Convert this dataframe to an interactive table.\"\n",
              "              style=\"display:none;\">\n",
              "        \n",
              "  <svg xmlns=\"http://www.w3.org/2000/svg\" height=\"24px\"viewBox=\"0 0 24 24\"\n",
              "       width=\"24px\">\n",
              "    <path d=\"M0 0h24v24H0V0z\" fill=\"none\"/>\n",
              "    <path d=\"M18.56 5.44l.94 2.06.94-2.06 2.06-.94-2.06-.94-.94-2.06-.94 2.06-2.06.94zm-11 1L8.5 8.5l.94-2.06 2.06-.94-2.06-.94L8.5 2.5l-.94 2.06-2.06.94zm10 10l.94 2.06.94-2.06 2.06-.94-2.06-.94-.94-2.06-.94 2.06-2.06.94z\"/><path d=\"M17.41 7.96l-1.37-1.37c-.4-.4-.92-.59-1.43-.59-.52 0-1.04.2-1.43.59L10.3 9.45l-7.72 7.72c-.78.78-.78 2.05 0 2.83L4 21.41c.39.39.9.59 1.41.59.51 0 1.02-.2 1.41-.59l7.78-7.78 2.81-2.81c.8-.78.8-2.07 0-2.86zM5.41 20L4 18.59l7.72-7.72 1.47 1.35L5.41 20z\"/>\n",
              "  </svg>\n",
              "      </button>\n",
              "      \n",
              "  <style>\n",
              "    .colab-df-container {\n",
              "      display:flex;\n",
              "      flex-wrap:wrap;\n",
              "      gap: 12px;\n",
              "    }\n",
              "\n",
              "    .colab-df-convert {\n",
              "      background-color: #E8F0FE;\n",
              "      border: none;\n",
              "      border-radius: 50%;\n",
              "      cursor: pointer;\n",
              "      display: none;\n",
              "      fill: #1967D2;\n",
              "      height: 32px;\n",
              "      padding: 0 0 0 0;\n",
              "      width: 32px;\n",
              "    }\n",
              "\n",
              "    .colab-df-convert:hover {\n",
              "      background-color: #E2EBFA;\n",
              "      box-shadow: 0px 1px 2px rgba(60, 64, 67, 0.3), 0px 1px 3px 1px rgba(60, 64, 67, 0.15);\n",
              "      fill: #174EA6;\n",
              "    }\n",
              "\n",
              "    [theme=dark] .colab-df-convert {\n",
              "      background-color: #3B4455;\n",
              "      fill: #D2E3FC;\n",
              "    }\n",
              "\n",
              "    [theme=dark] .colab-df-convert:hover {\n",
              "      background-color: #434B5C;\n",
              "      box-shadow: 0px 1px 3px 1px rgba(0, 0, 0, 0.15);\n",
              "      filter: drop-shadow(0px 1px 2px rgba(0, 0, 0, 0.3));\n",
              "      fill: #FFFFFF;\n",
              "    }\n",
              "  </style>\n",
              "\n",
              "      <script>\n",
              "        const buttonEl =\n",
<<<<<<< HEAD
              "          document.querySelector('#df-646f5f0c-cdb3-44fb-93f5-1688630b1690 button.colab-df-convert');\n",
=======
              "          document.querySelector('#df-5da590d4-4a2e-4b23-86a9-3bb32ad66700 button.colab-df-convert');\n",
>>>>>>> 7ac5f3b77ef58cb02fcbe61c7313d20ca1dad2d1
              "        buttonEl.style.display =\n",
              "          google.colab.kernel.accessAllowed ? 'block' : 'none';\n",
              "\n",
              "        async function convertToInteractive(key) {\n",
<<<<<<< HEAD
              "          const element = document.querySelector('#df-646f5f0c-cdb3-44fb-93f5-1688630b1690');\n",
=======
              "          const element = document.querySelector('#df-5da590d4-4a2e-4b23-86a9-3bb32ad66700');\n",
>>>>>>> 7ac5f3b77ef58cb02fcbe61c7313d20ca1dad2d1
              "          const dataTable =\n",
              "            await google.colab.kernel.invokeFunction('convertToInteractive',\n",
              "                                                     [key], {});\n",
              "          if (!dataTable) return;\n",
              "\n",
              "          const docLinkHtml = 'Like what you see? Visit the ' +\n",
              "            '<a target=\"_blank\" href=https://colab.research.google.com/notebooks/data_table.ipynb>data table notebook</a>'\n",
              "            + ' to learn more about interactive tables.';\n",
              "          element.innerHTML = '';\n",
              "          dataTable['output_type'] = 'display_data';\n",
              "          await google.colab.output.renderOutput(dataTable, element);\n",
              "          const docLink = document.createElement('div');\n",
              "          docLink.innerHTML = docLinkHtml;\n",
              "          element.appendChild(docLink);\n",
              "        }\n",
              "      </script>\n",
              "    </div>\n",
              "  </div>\n",
              "  "
<<<<<<< HEAD
            ],
            "text/plain": [
              "   STATUS  ASK_AMT  IS_SUCCESSFUL  NAME_14TH ARMORED DIVISION  \\\n",
              "0       1     5000              1                           0   \n",
              "1       1   108590              1                           0   \n",
              "2       1     5000              0                           0   \n",
              "3       1     6692              1                           0   \n",
              "4       1   142590              1                           0   \n",
              "\n",
              "   NAME_1930S GENERAL STORE MUSEUM  NAME_1963 GIBBS ALUMNI INC  \\\n",
              "0                                0                           0   \n",
              "1                                0                           0   \n",
              "2                                0                           0   \n",
              "3                                0                           0   \n",
              "4                                0                           0   \n",
              "\n",
              "   NAME_2 B NON PROFIT CORPORATION  NAME_2041 FOUNDATION INCORPORATED  \\\n",
              "0                                0                                  0   \n",
              "1                                0                                  0   \n",
              "2                                0                                  0   \n",
              "3                                0                                  0   \n",
              "4                                0                                  0   \n",
              "\n",
              "   NAME_21ST CENTURY HARVEST FOUNDATION  NAME_21ST STREET FOUNDATION  ...  \\\n",
              "0                                     0                            0  ...   \n",
              "1                                     0                            0  ...   \n",
              "2                                     0                            0  ...   \n",
              "3                                     0                            0  ...   \n",
              "4                                     0                            0  ...   \n",
              "\n",
              "   ORGANIZATION_Trust  INCOME_AMT_0  INCOME_AMT_1-9999  \\\n",
              "0                   0             1                  0   \n",
              "1                   0             0                  1   \n",
              "2                   0             1                  0   \n",
              "3                   1             0                  0   \n",
              "4                   1             0                  0   \n",
              "\n",
              "   INCOME_AMT_10000-24999  INCOME_AMT_100000-499999  INCOME_AMT_10M-50M  \\\n",
              "0                       0                         0                   0   \n",
              "1                       0                         0                   0   \n",
              "2                       0                         0                   0   \n",
              "3                       1                         0                   0   \n",
              "4                       0                         1                   0   \n",
              "\n",
              "   INCOME_AMT_1M-5M  INCOME_AMT_25000-99999  INCOME_AMT_50M+  \\\n",
              "0                 0                       0                0   \n",
              "1                 0                       0                0   \n",
              "2                 0                       0                0   \n",
              "3                 0                       0                0   \n",
              "4                 0                       0                0   \n",
              "\n",
              "   INCOME_AMT_5M-10M  \n",
              "0                  0  \n",
              "1                  0  \n",
              "2                  0  \n",
              "3                  0  \n",
              "4                  0  \n",
              "\n",
              "[5 rows x 6293 columns]"
            ]
          },
          "execution_count": 14,
          "metadata": {},
          "output_type": "execute_result"
=======
            ]
          },
          "metadata": {},
          "execution_count": 10
>>>>>>> 7ac5f3b77ef58cb02fcbe61c7313d20ca1dad2d1
        }
      ],
      "source": [
        "# Convert categorical data to numeric with `pd.get_dummies`\n",
<<<<<<< HEAD
        "dummy_col =  feature_columns.dtypes[feature_columns.dtypes=='object'].index\n",
        "\n",
        "encoded_data = pd.get_dummies(feature_columns, columns=dummy_col)\n",
=======
        "categorical_columns = ['CLASSIFICATION','APPLICATION_TYPE', 'AFFILIATION', 'USE_CASE', 'ORGANIZATION', 'SPECIAL_CONSIDERATIONS', 'INCOME_AMT', 'STATUS']\n",
        "\n",
        "encoded_data = pd.get_dummies(feature_columns, columns=categorical_columns)\n",
>>>>>>> 7ac5f3b77ef58cb02fcbe61c7313d20ca1dad2d1
        "\n",
        "encoded_data. head()"
      ]
    },
    {
      "cell_type": "code",
<<<<<<< HEAD
      "execution_count": 15,
=======
      "execution_count": 11,
>>>>>>> 7ac5f3b77ef58cb02fcbe61c7313d20ca1dad2d1
      "metadata": {
        "id": "cHE24U3_8Sxv"
      },
      "outputs": [],
      "source": [
        "# Split our preprocessed data into our features and target arrays\n",
        "\n",
        "X = encoded_data.drop('IS_SUCCESSFUL', axis=1)\n",
        "y = encoded_data['IS_SUCCESSFUL']\n",
        "\n",
        "# Split the preprocessed data into a training and testing dataset\n",
        "X_train, X_test, y_train, y_test = train_test_split(X, y, test_size=0.2, random_state=42)"
      ]
    },
    {
      "cell_type": "code",
<<<<<<< HEAD
      "execution_count": 16,
=======
      "execution_count": 12,
>>>>>>> 7ac5f3b77ef58cb02fcbe61c7313d20ca1dad2d1
      "metadata": {
        "id": "OdfrkZy98Sxw"
      },
      "outputs": [],
      "source": [
        "# Create a StandardScaler instances\n",
        "scaler = StandardScaler()\n",
        "\n",
        "# Fit the StandardScaler\n",
        "X_scaler = scaler.fit(X_train)\n",
        "\n",
        "\n",
        "# Scale the data\n",
        "X_train_scaled = X_scaler.transform(X_train)\n",
        "X_test_scaled = X_scaler.transform(X_test)"
      ]
    },
    {
<<<<<<< HEAD
      "attachments": {},
=======
>>>>>>> 7ac5f3b77ef58cb02fcbe61c7313d20ca1dad2d1
      "cell_type": "markdown",
      "metadata": {
        "id": "dV-LArEx8Sxw"
      },
      "source": [
        "## Compile, Train and Evaluate the Model"
      ]
    },
    {
      "cell_type": "code",
<<<<<<< HEAD
      "execution_count": 17,
      "metadata": {
        "id": "U3PU9DuOcBo1"
      },
      "outputs": [],
      "source": [
        "num_features = len(X_train.columns)\n",
        "\n"
      ]
    },
    {
      "cell_type": "code",
      "execution_count": 18,
      "metadata": {
        "colab": {
          "base_uri": "https://localhost:8080/"
        },
        "id": "uSHtsIcv8Sxw",
        "outputId": "e96c5205-698e-47cf-d025-48270fd06897"
      },
      "outputs": [
        {
          "name": "stdout",
          "output_type": "stream",
=======
      "execution_count": 13,
      "metadata": {
        "id": "uSHtsIcv8Sxw",
        "outputId": "57f27702-13bd-460c-ad7f-063c8d775fb1",
        "colab": {
          "base_uri": "https://localhost:8080/"
        }
      },
      "outputs": [
        {
          "output_type": "stream",
          "name": "stdout",
>>>>>>> 7ac5f3b77ef58cb02fcbe61c7313d20ca1dad2d1
          "text": [
            "Model: \"sequential\"\n",
            "_________________________________________________________________\n",
            " Layer (type)                Output Shape              Param #   \n",
            "=================================================================\n",
<<<<<<< HEAD
            " dense (Dense)               (None, 80)                503440    \n",
=======
            " dense (Dense)               (None, 80)                9440      \n",
>>>>>>> 7ac5f3b77ef58cb02fcbe61c7313d20ca1dad2d1
            "                                                                 \n",
            " dense_1 (Dense)             (None, 30)                2430      \n",
            "                                                                 \n",
            " dense_2 (Dense)             (None, 1)                 31        \n",
            "                                                                 \n",
            "=================================================================\n",
<<<<<<< HEAD
            "Total params: 505,901\n",
            "Trainable params: 505,901\n",
=======
            "Total params: 11,901\n",
            "Trainable params: 11,901\n",
>>>>>>> 7ac5f3b77ef58cb02fcbe61c7313d20ca1dad2d1
            "Non-trainable params: 0\n",
            "_________________________________________________________________\n"
          ]
        }
      ],
      "source": [
        "# Define the model - deep neural net, i.e., the number of input features and hidden nodes for each layer.\n",
        "#  YOUR CODE GOES HERE\n",
        "\n",
        "nn = tf.keras.models.Sequential()\n",
        "\n",
        "# First hidden layer\n",
<<<<<<< HEAD
        "nn.add(tf.keras.layers.Dense(units=80, activation=\"relu\", input_dim=num_features))\n",
=======
        "nn.add(tf.keras.layers.Dense(units=80, activation=\"relu\", input_dim=117))\n",
>>>>>>> 7ac5f3b77ef58cb02fcbe61c7313d20ca1dad2d1
        "\n",
        "# Second hidden layer\n",
        "nn.add(tf.keras.layers.Dense(units=30, activation=\"relu\"))\n",
        "\n",
        "# Output layer\n",
        "nn.add(tf.keras.layers.Dense(units=1, activation=\"sigmoid\"))\n",
        "\n",
        "# Check the structure of the model\n",
        "nn.summary()"
      ]
    },
    {
      "cell_type": "code",
<<<<<<< HEAD
      "execution_count": 19,
=======
      "execution_count": 14,
>>>>>>> 7ac5f3b77ef58cb02fcbe61c7313d20ca1dad2d1
      "metadata": {
        "id": "g1Axmvtd8Sxx"
      },
      "outputs": [],
      "source": [
        "# Compile the model\n",
        "nn.compile(loss=\"binary_crossentropy\", optimizer=\"adam\", metrics=[\"accuracy\"])"
      ]
    },
    {
      "cell_type": "code",
<<<<<<< HEAD
      "execution_count": 20,
      "metadata": {
        "colab": {
          "base_uri": "https://localhost:8080/"
        },
        "id": "5mf1W7kk8Sxx",
        "outputId": "2b1b4cce-32f0-4226-f599-d41019a374c8"
      },
      "outputs": [
        {
          "name": "stdout",
          "output_type": "stream",
          "text": [
            "Epoch 1/20\n",
            "250/250 [==============================] - 3s 8ms/step - loss: 0.5566 - accuracy: 0.7230\n",
            "Epoch 2/20\n",
            "250/250 [==============================] - 2s 10ms/step - loss: 0.1387 - accuracy: 0.9549\n",
            "Epoch 3/20\n",
            "250/250 [==============================] - 2s 8ms/step - loss: 0.0794 - accuracy: 0.9669\n",
            "Epoch 4/20\n",
            "250/250 [==============================] - 2s 8ms/step - loss: 0.0744 - accuracy: 0.9685\n",
            "Epoch 5/20\n",
            "250/250 [==============================] - 2s 10ms/step - loss: 0.0722 - accuracy: 0.9680\n",
            "Epoch 6/20\n",
            "250/250 [==============================] - 2s 9ms/step - loss: 0.0700 - accuracy: 0.9690\n",
            "Epoch 7/20\n",
            "250/250 [==============================] - 2s 8ms/step - loss: 0.0686 - accuracy: 0.9693\n",
            "Epoch 8/20\n",
            "250/250 [==============================] - 2s 8ms/step - loss: 0.0682 - accuracy: 0.9682\n",
            "Epoch 9/20\n",
            "250/250 [==============================] - 2s 8ms/step - loss: 0.0676 - accuracy: 0.9696\n",
            "Epoch 10/20\n",
            "250/250 [==============================] - 2s 8ms/step - loss: 0.0653 - accuracy: 0.9701\n",
            "Epoch 11/20\n",
            "250/250 [==============================] - 2s 9ms/step - loss: 0.0662 - accuracy: 0.9705\n",
            "Epoch 12/20\n",
            "250/250 [==============================] - 3s 10ms/step - loss: 0.0652 - accuracy: 0.9694\n",
            "Epoch 13/20\n",
            "250/250 [==============================] - 2s 8ms/step - loss: 0.0653 - accuracy: 0.9686\n",
            "Epoch 14/20\n",
            "250/250 [==============================] - 2s 8ms/step - loss: 0.0633 - accuracy: 0.9693\n",
            "Epoch 15/20\n",
            "250/250 [==============================] - 2s 8ms/step - loss: 0.0633 - accuracy: 0.9712\n",
            "Epoch 16/20\n",
            "250/250 [==============================] - 2s 8ms/step - loss: 0.0633 - accuracy: 0.9707\n",
            "Epoch 17/20\n",
            "250/250 [==============================] - 2s 8ms/step - loss: 0.0625 - accuracy: 0.9710\n",
            "Epoch 18/20\n",
            "250/250 [==============================] - 3s 13ms/step - loss: 0.0625 - accuracy: 0.9704\n",
            "Epoch 19/20\n",
            "250/250 [==============================] - 3s 14ms/step - loss: 0.0615 - accuracy: 0.9699\n",
            "Epoch 20/20\n",
            "250/250 [==============================] - 4s 15ms/step - loss: 0.0615 - accuracy: 0.9715\n"
=======
      "execution_count": 15,
      "metadata": {
        "id": "5mf1W7kk8Sxx",
        "outputId": "6f5f300a-7cdc-409d-d5e7-d7296de10bdb",
        "colab": {
          "base_uri": "https://localhost:8080/"
        }
      },
      "outputs": [
        {
          "output_type": "stream",
          "name": "stdout",
          "text": [
            "Epoch 1/100\n",
            "858/858 [==============================] - 6s 4ms/step - loss: 0.5747 - accuracy: 0.7194\n",
            "Epoch 2/100\n",
            "858/858 [==============================] - 4s 4ms/step - loss: 0.5543 - accuracy: 0.7294\n",
            "Epoch 3/100\n",
            "858/858 [==============================] - 4s 5ms/step - loss: 0.5505 - accuracy: 0.7298\n",
            "Epoch 4/100\n",
            "858/858 [==============================] - 2s 3ms/step - loss: 0.5475 - accuracy: 0.7328\n",
            "Epoch 5/100\n",
            "858/858 [==============================] - 2s 2ms/step - loss: 0.5465 - accuracy: 0.7323\n",
            "Epoch 6/100\n",
            "858/858 [==============================] - 2s 2ms/step - loss: 0.5456 - accuracy: 0.7326\n",
            "Epoch 7/100\n",
            "858/858 [==============================] - 2s 2ms/step - loss: 0.5450 - accuracy: 0.7333\n",
            "Epoch 8/100\n",
            "858/858 [==============================] - 2s 2ms/step - loss: 0.5430 - accuracy: 0.7342\n",
            "Epoch 9/100\n",
            "858/858 [==============================] - 2s 2ms/step - loss: 0.5427 - accuracy: 0.7346\n",
            "Epoch 10/100\n",
            "858/858 [==============================] - 2s 3ms/step - loss: 0.5417 - accuracy: 0.7338\n",
            "Epoch 11/100\n",
            "858/858 [==============================] - 2s 2ms/step - loss: 0.5410 - accuracy: 0.7354\n",
            "Epoch 12/100\n",
            "858/858 [==============================] - 2s 2ms/step - loss: 0.5407 - accuracy: 0.7347\n",
            "Epoch 13/100\n",
            "858/858 [==============================] - 2s 2ms/step - loss: 0.5402 - accuracy: 0.7347\n",
            "Epoch 14/100\n",
            "858/858 [==============================] - 2s 2ms/step - loss: 0.5402 - accuracy: 0.7354\n",
            "Epoch 15/100\n",
            "858/858 [==============================] - 2s 2ms/step - loss: 0.5390 - accuracy: 0.7357\n",
            "Epoch 16/100\n",
            "858/858 [==============================] - 2s 2ms/step - loss: 0.5388 - accuracy: 0.7365\n",
            "Epoch 17/100\n",
            "858/858 [==============================] - 2s 3ms/step - loss: 0.5388 - accuracy: 0.7352\n",
            "Epoch 18/100\n",
            "858/858 [==============================] - 2s 2ms/step - loss: 0.5378 - accuracy: 0.7380\n",
            "Epoch 19/100\n",
            "858/858 [==============================] - 2s 2ms/step - loss: 0.5383 - accuracy: 0.7367\n",
            "Epoch 20/100\n",
            "858/858 [==============================] - 2s 2ms/step - loss: 0.5369 - accuracy: 0.7384\n",
            "Epoch 21/100\n",
            "858/858 [==============================] - 2s 2ms/step - loss: 0.5376 - accuracy: 0.7375\n",
            "Epoch 22/100\n",
            "858/858 [==============================] - 2s 2ms/step - loss: 0.5365 - accuracy: 0.7374\n",
            "Epoch 23/100\n",
            "858/858 [==============================] - 2s 2ms/step - loss: 0.5368 - accuracy: 0.7380\n",
            "Epoch 24/100\n",
            "858/858 [==============================] - 3s 3ms/step - loss: 0.5358 - accuracy: 0.7385\n",
            "Epoch 25/100\n",
            "858/858 [==============================] - 2s 2ms/step - loss: 0.5362 - accuracy: 0.7385\n",
            "Epoch 26/100\n",
            "858/858 [==============================] - 2s 2ms/step - loss: 0.5360 - accuracy: 0.7381\n",
            "Epoch 27/100\n",
            "858/858 [==============================] - 2s 2ms/step - loss: 0.5359 - accuracy: 0.7395\n",
            "Epoch 28/100\n",
            "858/858 [==============================] - 2s 2ms/step - loss: 0.5358 - accuracy: 0.7387\n",
            "Epoch 29/100\n",
            "858/858 [==============================] - 2s 2ms/step - loss: 0.5356 - accuracy: 0.7397\n",
            "Epoch 30/100\n",
            "858/858 [==============================] - 2s 2ms/step - loss: 0.5353 - accuracy: 0.7390\n",
            "Epoch 31/100\n",
            "858/858 [==============================] - 2s 3ms/step - loss: 0.5351 - accuracy: 0.7401\n",
            "Epoch 32/100\n",
            "858/858 [==============================] - 2s 2ms/step - loss: 0.5348 - accuracy: 0.7398\n",
            "Epoch 33/100\n",
            "858/858 [==============================] - 2s 2ms/step - loss: 0.5345 - accuracy: 0.7406\n",
            "Epoch 34/100\n",
            "858/858 [==============================] - 2s 2ms/step - loss: 0.5342 - accuracy: 0.7410\n",
            "Epoch 35/100\n",
            "858/858 [==============================] - 2s 2ms/step - loss: 0.5346 - accuracy: 0.7402\n",
            "Epoch 36/100\n",
            "858/858 [==============================] - 2s 2ms/step - loss: 0.5341 - accuracy: 0.7395\n",
            "Epoch 37/100\n",
            "858/858 [==============================] - 2s 2ms/step - loss: 0.5338 - accuracy: 0.7405\n",
            "Epoch 38/100\n",
            "858/858 [==============================] - 2s 3ms/step - loss: 0.5337 - accuracy: 0.7408\n",
            "Epoch 39/100\n",
            "858/858 [==============================] - 2s 2ms/step - loss: 0.5336 - accuracy: 0.7404\n",
            "Epoch 40/100\n",
            "858/858 [==============================] - 2s 2ms/step - loss: 0.5335 - accuracy: 0.7413\n",
            "Epoch 41/100\n",
            "858/858 [==============================] - 2s 2ms/step - loss: 0.5331 - accuracy: 0.7396\n",
            "Epoch 42/100\n",
            "858/858 [==============================] - 2s 2ms/step - loss: 0.5329 - accuracy: 0.7407\n",
            "Epoch 43/100\n",
            "858/858 [==============================] - 2s 2ms/step - loss: 0.5335 - accuracy: 0.7404\n",
            "Epoch 44/100\n",
            "858/858 [==============================] - 2s 2ms/step - loss: 0.5331 - accuracy: 0.7405\n",
            "Epoch 45/100\n",
            "858/858 [==============================] - 2s 3ms/step - loss: 0.5325 - accuracy: 0.7411\n",
            "Epoch 46/100\n",
            "858/858 [==============================] - 2s 2ms/step - loss: 0.5325 - accuracy: 0.7408\n",
            "Epoch 47/100\n",
            "858/858 [==============================] - 2s 2ms/step - loss: 0.5323 - accuracy: 0.7410\n",
            "Epoch 48/100\n",
            "858/858 [==============================] - 2s 2ms/step - loss: 0.5322 - accuracy: 0.7412\n",
            "Epoch 49/100\n",
            "858/858 [==============================] - 2s 2ms/step - loss: 0.5322 - accuracy: 0.7413\n",
            "Epoch 50/100\n",
            "858/858 [==============================] - 2s 2ms/step - loss: 0.5317 - accuracy: 0.7413\n",
            "Epoch 51/100\n",
            "858/858 [==============================] - 2s 2ms/step - loss: 0.5324 - accuracy: 0.7418\n",
            "Epoch 52/100\n",
            "858/858 [==============================] - 3s 4ms/step - loss: 0.5313 - accuracy: 0.7415\n",
            "Epoch 53/100\n",
            "858/858 [==============================] - 3s 3ms/step - loss: 0.5313 - accuracy: 0.7416\n",
            "Epoch 54/100\n",
            "858/858 [==============================] - 2s 2ms/step - loss: 0.5309 - accuracy: 0.7410\n",
            "Epoch 55/100\n",
            "858/858 [==============================] - 2s 2ms/step - loss: 0.5316 - accuracy: 0.7416\n",
            "Epoch 56/100\n",
            "858/858 [==============================] - 2s 2ms/step - loss: 0.5310 - accuracy: 0.7412\n",
            "Epoch 57/100\n",
            "858/858 [==============================] - 2s 2ms/step - loss: 0.5313 - accuracy: 0.7418\n",
            "Epoch 58/100\n",
            "858/858 [==============================] - 2s 3ms/step - loss: 0.5313 - accuracy: 0.7415\n",
            "Epoch 59/100\n",
            "858/858 [==============================] - 2s 3ms/step - loss: 0.5310 - accuracy: 0.7417\n",
            "Epoch 60/100\n",
            "858/858 [==============================] - 2s 2ms/step - loss: 0.5305 - accuracy: 0.7415\n",
            "Epoch 61/100\n",
            "858/858 [==============================] - 2s 2ms/step - loss: 0.5308 - accuracy: 0.7413\n",
            "Epoch 62/100\n",
            "858/858 [==============================] - 2s 2ms/step - loss: 0.5305 - accuracy: 0.7418\n",
            "Epoch 63/100\n",
            "858/858 [==============================] - 2s 2ms/step - loss: 0.5305 - accuracy: 0.7422\n",
            "Epoch 64/100\n",
            "858/858 [==============================] - 2s 2ms/step - loss: 0.5308 - accuracy: 0.7417\n",
            "Epoch 65/100\n",
            "858/858 [==============================] - 2s 3ms/step - loss: 0.5304 - accuracy: 0.7420\n",
            "Epoch 66/100\n",
            "858/858 [==============================] - 2s 3ms/step - loss: 0.5306 - accuracy: 0.7415\n",
            "Epoch 67/100\n",
            "858/858 [==============================] - 2s 2ms/step - loss: 0.5302 - accuracy: 0.7418\n",
            "Epoch 68/100\n",
            "858/858 [==============================] - 2s 2ms/step - loss: 0.5297 - accuracy: 0.7421\n",
            "Epoch 69/100\n",
            "858/858 [==============================] - 2s 2ms/step - loss: 0.5298 - accuracy: 0.7420\n",
            "Epoch 70/100\n",
            "858/858 [==============================] - 2s 2ms/step - loss: 0.5299 - accuracy: 0.7422\n",
            "Epoch 71/100\n",
            "858/858 [==============================] - 2s 2ms/step - loss: 0.5300 - accuracy: 0.7421\n",
            "Epoch 72/100\n",
            "858/858 [==============================] - 2s 2ms/step - loss: 0.5298 - accuracy: 0.7423\n",
            "Epoch 73/100\n",
            "858/858 [==============================] - 2s 3ms/step - loss: 0.5301 - accuracy: 0.7422\n",
            "Epoch 74/100\n",
            "858/858 [==============================] - 2s 2ms/step - loss: 0.5295 - accuracy: 0.7422\n",
            "Epoch 75/100\n",
            "858/858 [==============================] - 2s 2ms/step - loss: 0.5296 - accuracy: 0.7421\n",
            "Epoch 76/100\n",
            "858/858 [==============================] - 2s 2ms/step - loss: 0.5298 - accuracy: 0.7425\n",
            "Epoch 77/100\n",
            "858/858 [==============================] - 2s 2ms/step - loss: 0.5296 - accuracy: 0.7427\n",
            "Epoch 78/100\n",
            "858/858 [==============================] - 2s 2ms/step - loss: 0.5295 - accuracy: 0.7417\n",
            "Epoch 79/100\n",
            "858/858 [==============================] - 2s 3ms/step - loss: 0.5292 - accuracy: 0.7426\n",
            "Epoch 80/100\n",
            "858/858 [==============================] - 2s 3ms/step - loss: 0.5293 - accuracy: 0.7419\n",
            "Epoch 81/100\n",
            "858/858 [==============================] - 2s 2ms/step - loss: 0.5285 - accuracy: 0.7420\n",
            "Epoch 82/100\n",
            "858/858 [==============================] - 2s 2ms/step - loss: 0.5287 - accuracy: 0.7430\n",
            "Epoch 83/100\n",
            "858/858 [==============================] - 2s 2ms/step - loss: 0.5292 - accuracy: 0.7416\n",
            "Epoch 84/100\n",
            "858/858 [==============================] - 2s 2ms/step - loss: 0.5289 - accuracy: 0.7428\n",
            "Epoch 85/100\n",
            "858/858 [==============================] - 2s 2ms/step - loss: 0.5293 - accuracy: 0.7416\n",
            "Epoch 86/100\n",
            "858/858 [==============================] - 2s 2ms/step - loss: 0.5289 - accuracy: 0.7423\n",
            "Epoch 87/100\n",
            "858/858 [==============================] - 2s 3ms/step - loss: 0.5284 - accuracy: 0.7424\n",
            "Epoch 88/100\n",
            "858/858 [==============================] - 2s 2ms/step - loss: 0.5285 - accuracy: 0.7423\n",
            "Epoch 89/100\n",
            "858/858 [==============================] - 2s 2ms/step - loss: 0.5286 - accuracy: 0.7419\n",
            "Epoch 90/100\n",
            "858/858 [==============================] - 2s 2ms/step - loss: 0.5283 - accuracy: 0.7419\n",
            "Epoch 91/100\n",
            "858/858 [==============================] - 2s 2ms/step - loss: 0.5288 - accuracy: 0.7419\n",
            "Epoch 92/100\n",
            "858/858 [==============================] - 2s 2ms/step - loss: 0.5286 - accuracy: 0.7422\n",
            "Epoch 93/100\n",
            "858/858 [==============================] - 2s 2ms/step - loss: 0.5282 - accuracy: 0.7414\n",
            "Epoch 94/100\n",
            "858/858 [==============================] - 2s 3ms/step - loss: 0.5282 - accuracy: 0.7427\n",
            "Epoch 95/100\n",
            "858/858 [==============================] - 2s 2ms/step - loss: 0.5282 - accuracy: 0.7421\n",
            "Epoch 96/100\n",
            "858/858 [==============================] - 2s 2ms/step - loss: 0.5280 - accuracy: 0.7430\n",
            "Epoch 97/100\n",
            "858/858 [==============================] - 2s 2ms/step - loss: 0.5283 - accuracy: 0.7430\n",
            "Epoch 98/100\n",
            "858/858 [==============================] - 2s 2ms/step - loss: 0.5280 - accuracy: 0.7424\n",
            "Epoch 99/100\n",
            "858/858 [==============================] - 2s 2ms/step - loss: 0.5279 - accuracy: 0.7425\n",
            "Epoch 100/100\n",
            "858/858 [==============================] - 2s 2ms/step - loss: 0.5279 - accuracy: 0.7426\n"
>>>>>>> 7ac5f3b77ef58cb02fcbe61c7313d20ca1dad2d1
          ]
        }
      ],
      "source": [
        "# Train the model\n",
        "from sklearn.preprocessing import LabelEncoder\n",
        "\n",
        "# Initialize the LabelEncoder\n",
        "label_encoder = LabelEncoder()\n",
        "\n",
        "# Encode the target labels\n",
        "y_train_encoded = label_encoder.fit_transform(y_train)\n",
        "y_test_encoded = label_encoder.fit_transform(y_test)\n",
        "# Train the model\n",
<<<<<<< HEAD
        "fit_model = nn.fit(X_train_scaled, y_train_encoded, epochs=20)\n",
=======
        "fit_model = nn.fit(X_train_scaled, y_train_encoded, epochs=100)\n",
>>>>>>> 7ac5f3b77ef58cb02fcbe61c7313d20ca1dad2d1
        "\n"
      ]
    },
    {
      "cell_type": "code",
<<<<<<< HEAD
      "execution_count": 21,
      "metadata": {
        "colab": {
          "base_uri": "https://localhost:8080/"
        },
        "id": "lbMhfkqN8Sxy",
        "outputId": "8a9bb87e-8125-4847-a87a-2ddf6923abf8"
      },
      "outputs": [
        {
          "name": "stdout",
          "output_type": "stream",
          "text": [
            "63/63 - 1s - loss: 0.4905 - accuracy: 0.7575 - 1s/epoch - 18ms/step\n",
            "Loss: 0.4904613196849823, Accuracy: 0.7574999928474426\n"
=======
      "execution_count": 16,
      "metadata": {
        "id": "lbMhfkqN8Sxy",
        "outputId": "cde5bd4c-d241-45c7-fcf9-880bfe52a972",
        "colab": {
          "base_uri": "https://localhost:8080/"
        }
      },
      "outputs": [
        {
          "output_type": "stream",
          "name": "stdout",
          "text": [
            "215/215 - 1s - loss: 0.5652 - accuracy: 0.7277 - 655ms/epoch - 3ms/step\n",
            "Loss: 0.5652435421943665, Accuracy: 0.7276967763900757\n"
>>>>>>> 7ac5f3b77ef58cb02fcbe61c7313d20ca1dad2d1
          ]
        }
      ],
      "source": [
        "# Evaluate the model using the test data\n",
        "# Convert string target values to float\n",
        "\n",
        "model_loss, model_accuracy = nn.evaluate(X_test_scaled,y_test,verbose=2)\n",
        "print(f\"Loss: {model_loss}, Accuracy: {model_accuracy}\")"
      ]
    },
    {
      "cell_type": "code",
<<<<<<< HEAD
      "execution_count": 41,
=======
      "execution_count": 19,
>>>>>>> 7ac5f3b77ef58cb02fcbe61c7313d20ca1dad2d1
      "metadata": {
        "id": "zipI8vOt8Sxy"
      },
      "outputs": [],
      "source": [
        "# Export our model to HDF5 file\n",
<<<<<<< HEAD
        "fit_model.model.save(\"AlphabetSoupCharity_Optimazation.h5\")"
      ]
    },
    {
      "cell_type": "code",
      "execution_count": null,
      "metadata": {},
      "outputs": [],
      "source": [
        "from google.colab import files\n",
        "\n",
        "files.download(\"AlphabetSoupCharity_Optimazation.h5\")\n"
=======
        "fit_model.model.save(\"AlphabetSoupCharity.h5\")"
>>>>>>> 7ac5f3b77ef58cb02fcbe61c7313d20ca1dad2d1
      ]
    }
  ],
  "metadata": {
<<<<<<< HEAD
    "colab": {
      "provenance": []
    },
=======
>>>>>>> 7ac5f3b77ef58cb02fcbe61c7313d20ca1dad2d1
    "kernelspec": {
      "display_name": "Python 3",
      "language": "python",
      "name": "python3"
    },
    "language_info": {
      "codemirror_mode": {
        "name": "ipython",
        "version": 3
      },
      "file_extension": ".py",
      "mimetype": "text/x-python",
      "name": "python",
      "nbconvert_exporter": "python",
      "pygments_lexer": "ipython3",
      "version": "3.-1.-1"
    },
    "vscode": {
      "interpreter": {
        "hash": "31f2aee4e71d21fbe5cf8b01ff0e069b9275f58929596ceb00d14d90e3e16cd6"
      }
<<<<<<< HEAD
=======
    },
    "colab": {
      "provenance": [],
      "toc_visible": true,
      "include_colab_link": true
>>>>>>> 7ac5f3b77ef58cb02fcbe61c7313d20ca1dad2d1
    }
  },
  "nbformat": 4,
  "nbformat_minor": 0
<<<<<<< HEAD
}
=======
}
>>>>>>> 7ac5f3b77ef58cb02fcbe61c7313d20ca1dad2d1
